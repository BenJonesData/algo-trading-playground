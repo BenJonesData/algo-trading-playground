{
 "cells": [
  {
   "cell_type": "markdown",
   "metadata": {},
   "source": [
    "# Stock Data Exploration\n",
    "\n",
    "The purpose of this notebook is to get familiar with handling and analysing financial data using common Python packages like `yfinance`, `statsmodels`, and `plotly`. We will explore basic techniques for data acquisition, manipulation, and visualisation, laying the foundation to apply data science expertise in algorithmic trading in the future.\n",
    "\n",
    "This notebook loosely follows the first chapter of the [Financial Trading in Python](https://app.datacamp.com/learn/courses/financial-trading-in-python) course on DataCamp. It is primarily for the author's own benefit but is included for transparency. The commentary is intended to document the code for reference.\n"
   ]
  },
  {
   "cell_type": "markdown",
   "metadata": {},
   "source": [
    "## Table of Contents\n",
    "1. [Introduction](#Introduction)\n",
    "2. [Plotting Stock Data](#Plotting-Stock-Data)\n",
    "3. [Resampling](#Resampling)\n",
    "4. [Plotting Returns](#Plotting-Returns)\n",
    "5. [Statistical Tests on Returns](#Statistical-Tests-on-Returns)\n",
    "6. [Moving Averages](#Moving-Averages)\n",
    "7. [Next Steps](#Next-Steps)\n",
    "\n",
    "\n",
    "    \n"
   ]
  },
  {
   "cell_type": "code",
   "execution_count": 1,
   "metadata": {},
   "outputs": [],
   "source": [
    "import os\n",
    "import sys\n",
    "\n",
    "# add root directory to path for helper functions\n",
    "if os.path.abspath(\"../\") not in sys.path:\n",
    "    sys.path.append(os.path.abspath(\"../\"))\n",
    "\n",
    "import numpy as np\n",
    "import matplotlib.pyplot as plt\n",
    "import yfinance as yf\n",
    "import plotly.graph_objects as go\n",
    "from statsmodels.stats.diagnostic import het_breuschpagan, acorr_ljungbox\n",
    "import statsmodels.api as sm\n",
    "from scipy.stats import jarque_bera\n",
    "\n",
    "from helper_functions.plots_helper import create_candlestick"
   ]
  },
  {
   "cell_type": "markdown",
   "metadata": {},
   "source": [
    "## Introduction\n",
    "\n",
    "In order to experiment with some simple trading strategies we first must gain a basic understanding of how the financial data is obtained and how it is structured. we will begin by downloading some stock data using the `yfinance` package. This package supports stock data on multiple granularities however we will mostly focus on daily data for the purpose of this notebook."
   ]
  },
  {
   "cell_type": "code",
   "execution_count": 2,
   "metadata": {},
   "outputs": [
    {
     "name": "stderr",
     "output_type": "stream",
     "text": [
      "[*********************100%***********************]  1 of 1 completed\n"
     ]
    }
   ],
   "source": [
    "google_data_daily = yf.download(\n",
    "    \"GOOG\", interval=\"1d\", start=\"2023-01-01\", end=\"2024-01-01\"\n",
    ")"
   ]
  },
  {
   "cell_type": "code",
   "execution_count": 3,
   "metadata": {},
   "outputs": [
    {
     "data": {
      "text/html": [
       "<div>\n",
       "<style scoped>\n",
       "    .dataframe tbody tr th:only-of-type {\n",
       "        vertical-align: middle;\n",
       "    }\n",
       "\n",
       "    .dataframe tbody tr th {\n",
       "        vertical-align: top;\n",
       "    }\n",
       "\n",
       "    .dataframe thead th {\n",
       "        text-align: right;\n",
       "    }\n",
       "</style>\n",
       "<table border=\"1\" class=\"dataframe\">\n",
       "  <thead>\n",
       "    <tr style=\"text-align: right;\">\n",
       "      <th></th>\n",
       "      <th>Open</th>\n",
       "      <th>High</th>\n",
       "      <th>Low</th>\n",
       "      <th>Close</th>\n",
       "      <th>Adj Close</th>\n",
       "      <th>Volume</th>\n",
       "    </tr>\n",
       "    <tr>\n",
       "      <th>Date</th>\n",
       "      <th></th>\n",
       "      <th></th>\n",
       "      <th></th>\n",
       "      <th></th>\n",
       "      <th></th>\n",
       "      <th></th>\n",
       "    </tr>\n",
       "  </thead>\n",
       "  <tbody>\n",
       "    <tr>\n",
       "      <th>2023-01-03</th>\n",
       "      <td>89.830002</td>\n",
       "      <td>91.550003</td>\n",
       "      <td>89.019997</td>\n",
       "      <td>89.699997</td>\n",
       "      <td>89.480255</td>\n",
       "      <td>20738500</td>\n",
       "    </tr>\n",
       "    <tr>\n",
       "      <th>2023-01-04</th>\n",
       "      <td>91.010002</td>\n",
       "      <td>91.239998</td>\n",
       "      <td>87.800003</td>\n",
       "      <td>88.709999</td>\n",
       "      <td>88.492676</td>\n",
       "      <td>27046500</td>\n",
       "    </tr>\n",
       "    <tr>\n",
       "      <th>2023-01-05</th>\n",
       "      <td>88.070000</td>\n",
       "      <td>88.209999</td>\n",
       "      <td>86.559998</td>\n",
       "      <td>86.769997</td>\n",
       "      <td>86.557426</td>\n",
       "      <td>23136100</td>\n",
       "    </tr>\n",
       "    <tr>\n",
       "      <th>2023-01-06</th>\n",
       "      <td>87.360001</td>\n",
       "      <td>88.470001</td>\n",
       "      <td>85.570000</td>\n",
       "      <td>88.160004</td>\n",
       "      <td>87.944031</td>\n",
       "      <td>26612600</td>\n",
       "    </tr>\n",
       "    <tr>\n",
       "      <th>2023-01-09</th>\n",
       "      <td>89.195000</td>\n",
       "      <td>90.830002</td>\n",
       "      <td>88.580002</td>\n",
       "      <td>88.800003</td>\n",
       "      <td>88.582466</td>\n",
       "      <td>22996700</td>\n",
       "    </tr>\n",
       "  </tbody>\n",
       "</table>\n",
       "</div>"
      ],
      "text/plain": [
       "                 Open       High        Low      Close  Adj Close    Volume\n",
       "Date                                                                       \n",
       "2023-01-03  89.830002  91.550003  89.019997  89.699997  89.480255  20738500\n",
       "2023-01-04  91.010002  91.239998  87.800003  88.709999  88.492676  27046500\n",
       "2023-01-05  88.070000  88.209999  86.559998  86.769997  86.557426  23136100\n",
       "2023-01-06  87.360001  88.470001  85.570000  88.160004  87.944031  26612600\n",
       "2023-01-09  89.195000  90.830002  88.580002  88.800003  88.582466  22996700"
      ]
     },
     "execution_count": 3,
     "metadata": {},
     "output_type": "execute_result"
    }
   ],
   "source": [
    "google_data_daily.head()"
   ]
  },
  {
   "cell_type": "markdown",
   "metadata": {},
   "source": [
    "## Plotting Stock Data\n",
    "\n",
    "As with any time series, it is useful to be able to visualise asset price over time. There are many approaches and methods to plot this kind of financial data. Line charts are useful to simply track the price of an asset over time, whilst candlestick charts can provide more insight into how the prices vary during the individual time periods (in our case days), including the open, close, high and low.\n",
    "\n",
    "A candlestick helper function has been constructed and imported to avoid repeating code when plotting the candlestick charts."
   ]
  },
  {
   "cell_type": "code",
   "execution_count": 4,
   "metadata": {},
   "outputs": [
    {
     "data": {
      "image/png": "[encoded data removed]",
      "text/plain": [
       "<Figure size 640x480 with 1 Axes>"
      ]
     },
     "metadata": {},
     "output_type": "display_data"
    }
   ],
   "source": [
    "plt.plot(google_data_daily[\"Close\"])\n",
    "plt.title(\"Daily Google Close Price in 2023\")\n",
    "plt.xlabel(\"Date\")\n",
    "plt.ylabel(\"Price (USD)\")\n",
    "plt.show()"
   ]
  },
  {
   "cell_type": "code",
   "execution_count": 5,
   "metadata": {},
   "outputs": [
    {
     "data": {
      "application/vnd.plotly.v1+json": {
       "config": {
        "plotlyServerURL": "https://plot.ly"
       },
       "data": [
        {
         "close": [
          89.69999694824219,
          88.70999908447266,
          86.7699966430664,
          88.16000366210938,
          88.80000305175781,
          89.23999786376953,
          92.26000213623047,
          91.91000366210938,
          92.80000305175781,
          92.16000366210938,
          91.77999877929688,
          93.91000366210938,
          99.27999877929688,
          101.20999908447266,
          99.20999908447266,
          96.7300033569336,
          99.16000366210938,
          100.70999908447266,
          97.94999694824219,
          99.87000274658203,
          101.43000030517578,
          108.80000305175781,
          105.22000122070312,
          103.47000122070312,
          108.04000091552734,
          100,
          95.45999908447266,
          94.86000061035156,
          95,
          94.94999694824219,
          97.0999984741211,
          95.77999877929688,
          94.58999633789062,
          92.05000305175781,
          91.80000305175781,
          91.06999969482422,
          89.3499984741211,
          90.0999984741211,
          90.30000305175781,
          90.51000213623047,
          92.30999755859375,
          94.0199966430664,
          95.58000183105469,
          94.16999816894531,
          94.6500015258789,
          92.66000366210938,
          91.01000213623047,
          91.66000366210938,
          94.25,
          96.55000305175781,
          101.06999969482422,
          102.45999908447266,
          101.93000030517578,
          105.83999633789062,
          104.22000122070312,
          106.26000213623047,
          106.05999755859375,
          103.05999755859375,
          101.36000061035156,
          101.9000015258789,
          101.31999969482422,
          104,
          104.91000366210938,
          105.12000274658203,
          104.94999694824219,
          108.9000015258789,
          106.94999694824219,
          106.12000274658203,
          105.22000122070312,
          108.19000244140625,
          109.45999908447266,
          106.41999816894531,
          105.12000274658203,
          105.0199966430664,
          105.9000015258789,
          105.91000366210938,
          106.77999877929688,
          104.61000061035156,
          104.44999694824219,
          108.37000274658203,
          108.22000122070312,
          107.70999908447266,
          105.9800033569336,
          106.12000274658203,
          105.20999908447266,
          106.21499633789062,
          108.23999786376953,
          107.94000244140625,
          112.27999877929688,
          116.9000015258789,
          117.91999816894531,
          116.95999908447266,
          120.08999633789062,
          121.4800033569336,
          123.5199966430664,
          123.25,
          125.87000274658203,
          123.29000091552734,
          121.63999938964844,
          124.3499984741211,
          125.43000030517578,
          124.63999938964844,
          123.37000274658203,
          124.37000274658203,
          125.2300033569336,
          126.62999725341797,
          127.91000366210938,
          122.94000244140625,
          122.66999816894531,
          122.87000274658203,
          124.3499984741211,
          124.43000030517578,
          124.37999725341797,
          125.79000091552734,
          124.05999755859375,
          123.8499984741211,
          121.26000213623047,
          123.87000274658203,
          123.0199966430664,
          119.08999633789062,
          119.01000213623047,
          121.08000183105469,
          120.01000213623047,
          120.97000122070312,
          120.55999755859375,
          122.62999725341797,
          120.93000030517578,
          120.13999938964844,
          116.87000274658203,
          117.70999908447266,
          119.62000274658203,
          124.83000183105469,
          125.69999694824219,
          125.05999755859375,
          124.08000183105469,
          122.77999877929688,
          119.52999877929688,
          120.30999755859375,
          121.87999725341797,
          122.79000091552734,
          129.66000366210938,
          129.8699951171875,
          133.00999450683594,
          133.11000061035156,
          131.88999938964844,
          128.63999938964844,
          128.77000427246094,
          128.5399932861328,
          131.94000244140625,
          131.83999633789062,
          130.14999389648438,
          130.2100067138672,
          130.1699981689453,
          131.8300018310547,
          130.27000427246094,
          129.11000061035156,
          130.4600067138672,
          128.11000061035156,
          128.92999267578125,
          129.69000244140625,
          133.2100067138672,
          130.4199981689453,
          130.69000244140625,
          131.7899932861328,
          135.49000549316406,
          136.92999267578125,
          137.35000610351562,
          136.8000030517578,
          136.7100067138672,
          135.3699951171875,
          136.1999969482422,
          137.1999969482422,
          137.74000549316406,
          136.07000732421875,
          137.5,
          138.99000549316406,
          138.3000030517578,
          138.9600067138672,
          138.8300018310547,
          134.58999633789062,
          131.36000061035156,
          131.25,
          132.1699981689453,
          129.4499969482422,
          131.4600067138672,
          133.1300048828125,
          131.85000610351562,
          135.1699981689453,
          133.3000030517578,
          136.27000427246094,
          135.99000549316406,
          138.72999572753906,
          139.5,
          139.1999969482422,
          141.6999969482422,
          140.2899932861328,
          138.5800018310547,
          140.49000549316406,
          140.99000549316406,
          139.27999877929688,
          138.97999572753906,
          136.74000549316406,
          137.89999389648438,
          140.1199951171875,
          126.66999816894531,
          123.44000244140625,
          123.4000015258789,
          125.75,
          125.30000305175781,
          127.56999969482422,
          128.5800018310547,
          130.3699951171875,
          131.4499969482422,
          132.39999389648438,
          133.25999450683594,
          131.69000244140625,
          134.05999755859375,
          133.63999938964844,
          135.42999267578125,
          136.3800048828125,
          138.6999969482422,
          136.94000244140625,
          137.9199981689453,
          138.6199951171875,
          140.02000427246094,
          138.22000122070312,
          138.0500030517578,
          138.6199951171875,
          136.39999389648438,
          133.9199981689453,
          133.32000732421875,
          130.6300048828125,
          132.38999938964844,
          131.42999267578125,
          138.4499969482422,
          136.63999938964844,
          134.6999969482422,
          133.63999938964844,
          133.97000122070312,
          133.1999969482422,
          133.83999633789062,
          137.19000244140625,
          138.10000610351562,
          139.66000366210938,
          141.8000030517578,
          142.72000122070312,
          142.82000732421875,
          141.44000244140625,
          141.27999877929688,
          140.92999267578125
         ],
         "high": [
          91.55000305175781,
          91.23999786376953,
          88.20999908447266,
          88.47000122070312,
          90.83000183105469,
          89.4749984741211,
          92.44999694824219,
          92.62000274658203,
          92.9800033569336,
          92.97000122070312,
          93.58799743652344,
          94.4000015258789,
          99.41999816894531,
          101.4000015258789,
          101.08999633789062,
          97.72000122070312,
          99.20999908447266,
          101.58000183105469,
          99.40899658203125,
          99.91000366210938,
          102.19000244140625,
          108.81999969482422,
          108.0199966430664,
          104.69999694824219,
          108.66999816894531,
          103.58000183105469,
          100.61000061035156,
          97.0199966430664,
          95.3499984741211,
          95.17500305175781,
          97.33999633789062,
          97.87999725341797,
          95.75,
          93.41500091552734,
          92.36000061035156,
          92.12999725341797,
          90.12999725341797,
          90.44999694824219,
          91.44999694824219,
          91.19999694824219,
          92.4800033569336,
          94.11000061035156,
          96.30000305175781,
          96.08999633789062,
          96.23999786376953,
          95.91999816894531,
          93.18000030517578,
          93.08000183105469,
          94.83000183105469,
          97.25,
          101.97000122070312,
          103.48999786376953,
          102.58000183105469,
          105.95999908447266,
          107.51000213623047,
          107.10099792480469,
          106.16000366210938,
          105.4000015258789,
          103,
          102.81999969482422,
          101.61000061035156,
          104.19000244140625,
          104.94999694824219,
          106.0999984741211,
          106.54000091552734,
          109.62999725341797,
          107.97000122070312,
          107.22000122070312,
          107.58699798583984,
          108.26499938964844,
          109.58000183105469,
          106.70999908447266,
          107.05000305175781,
          105.7249984741211,
          106.88800048828125,
          106.63999938964844,
          107.31999969482422,
          107.44000244140625,
          107.0199966430664,
          109.1500015258789,
          108.29000091552734,
          108.68000030517578,
          107.7300033569336,
          108.12999725341797,
          106.30000305175781,
          106.44000244140625,
          108.41999816894531,
          110.59500122070312,
          113.51000213623047,
          118.44000244140625,
          118.26000213623047,
          118.79499816894531,
          121.19999694824219,
          122.27999877929688,
          123.9000015258789,
          126.47899627685547,
          127.05000305175781,
          125.41999816894531,
          122.75,
          125.9800033569336,
          126,
          126.37999725341797,
          124.9000015258789,
          125.04000091552734,
          126.74500274658203,
          127.98999786376953,
          128.8800048828125,
          129.5500030517578,
          123.7300033569336,
          124.28500366210938,
          124.75,
          125.86000061035156,
          124.79000091552734,
          126.16000366210938,
          126.69999694824219,
          125.17500305175781,
          123.41000366210938,
          123.93499755859375,
          123.44000244140625,
          122.72000122070312,
          119.8949966430664,
          121.2699966430664,
          120.91000366210938,
          122.02999877929688,
          121.0199966430664,
          123.37000274658203,
          121.1500015258789,
          121.75,
          119.06999969482422,
          118.2249984741211,
          120.95999908447266,
          125.33499908447266,
          127.08999633789062,
          127.27999877929688,
          124.98999786376953,
          125.47000122070312,
          124.69999694824219,
          121.30000305175781,
          123.3499984741211,
          123.69000244140625,
          131.3699951171875,
          133.60000610351562,
          134.07000732421875,
          133.8300018310547,
          132.9199981689453,
          130.4199981689453,
          129.77000427246094,
          131.92999267578125,
          132.05999755859375,
          131.94000244140625,
          132.47000122070312,
          132.64700317382812,
          130.44000244140625,
          131.91000366210938,
          131.99000549316406,
          130.8979949951172,
          132.49099731445312,
          129.8300018310547,
          129.25999450683594,
          130.9499969482422,
          134.07000732421875,
          134.97000122070312,
          131.39999389648438,
          133.24000549316406,
          137.2949981689453,
          137.25,
          138.39999389648438,
          138.5800018310547,
          137.3699951171875,
          137.47999572753906,
          136.5800018310547,
          137.51499938964844,
          138.26400756835938,
          137.63999938964844,
          137.6999969482422,
          139.5500030517578,
          139.36000061035156,
          139.92999267578125,
          139.1750030517578,
          138.83999633789062,
          133.19000244140625,
          133.00999450683594,
          132.22000122070312,
          131.40499877929688,
          131.72000122070312,
          134.17999267578125,
          134.88999938964844,
          135.36000061035156,
          135.24000549316406,
          136.57000732421875,
          136.5,
          139.18600463867188,
          139.97000122070312,
          140.74000549316406,
          142.22000122070312,
          142.3800048828125,
          141.33999633789062,
          140.90499877929688,
          141.25,
          141.99000549316406,
          141.0050048828125,
          139.0399932861328,
          139.02000427246094,
          140.7100067138672,
          130.10000610351562,
          125.45999908447266,
          124.44000244140625,
          126.55000305175781,
          126.55999755859375,
          127.73999786376953,
          130.08999633789062,
          130.72999572753906,
          131.55999755859375,
          133.27999877929688,
          133.5399932861328,
          133.9600067138672,
          134.27000427246094,
          134.11000061035156,
          137.24000549316406,
          136.83999633789062,
          138.8800048828125,
          138,
          138.4250030517578,
          138.96499633789062,
          141.10000610351562,
          139.677001953125,
          139.6300048828125,
          138.66000366210938,
          139.6699981689453,
          136.9600067138672,
          133.5,
          131.4499969482422,
          133.5399932861328,
          133.30999755859375,
          140,
          137.99000549316406,
          134.7899932861328,
          134.5399932861328,
          134.77999877929688,
          135.03500366210938,
          134.8300018310547,
          138.3800048828125,
          138.77000427246094,
          143.0780029296875,
          142.02999877929688,
          143.25,
          143.94500732421875,
          143.32000732421875,
          142.27000427246094,
          141.43499755859375
         ],
         "low": [
          89.0199966430664,
          87.80000305175781,
          86.55999755859375,
          85.56999969482422,
          88.58000183105469,
          86.69999694824219,
          89.73999786376953,
          90.56999969482422,
          90.93000030517578,
          90.83999633789062,
          91.4000015258789,
          91.37999725341797,
          95.91000366210938,
          98.75,
          98.69999694824219,
          95.26200103759766,
          96.81999969482422,
          98.97000122070312,
          97.5199966430664,
          97.79000091552734,
          98.41999816894531,
          106.54000091552734,
          103.30000305175781,
          102.20999908447266,
          103.5479965209961,
          98.45500183105469,
          93.86000061035156,
          94.52999877929688,
          94.05000305175781,
          92.6500015258789,
          94.36000061035156,
          94.97000122070312,
          93.44999694824219,
          92,
          90.87000274658203,
          90.01000213623047,
          88.86000061035156,
          89.61000061035156,
          89.5199966430664,
          89.8499984741211,
          89.7699966430664,
          92.66000366210938,
          94.30000305175781,
          93.84400177001953,
          94.40499877929688,
          92.3550033569336,
          90.80000305175781,
          89.94000244140625,
          92.77999877929688,
          93.04000091552734,
          95.87000274658203,
          100.75,
          100.79000091552734,
          101.86000061035156,
          104.20999908447266,
          105.41000366210938,
          104.73999786376953,
          102.62999725341797,
          100.27999877929688,
          101.02999877929688,
          100.29000091552734,
          101.44000244140625,
          102.37999725341797,
          104.5999984741211,
          104.10199737548828,
          104.81500244140625,
          105.5999984741211,
          105.27999877929688,
          104.97000122070312,
          106.44000244140625,
          107.58999633789062,
          105.31999969482422,
          104.77999877929688,
          103.80000305175781,
          104.63999938964844,
          105.48500061035156,
          105.36000061035156,
          104.55999755859375,
          103.2699966430664,
          104.41999816894531,
          106.04000091552734,
          107.5,
          104.5,
          105.62000274658203,
          104.69999694824219,
          104.73899841308594,
          105.79000091552734,
          107.7249984741211,
          108.4800033569336,
          114.93000030517578,
          116.55000305175781,
          116.4800033569336,
          116.83000183105469,
          119.45999908447266,
          121.48999786376953,
          122.72000122070312,
          123.44999694824219,
          123.05000305175781,
          120.75,
          122.9000015258789,
          123.29000091552734,
          122.88999938964844,
          123.0999984741211,
          123.30000305175781,
          124.3499984741211,
          124.37999725341797,
          125.97000122070312,
          122.62999725341797,
          122.01000213623047,
          122.41999816894531,
          122.3499984741211,
          123.84500122070312,
          122.16000366210938,
          123.13999938964844,
          123.79000091552734,
          122.83000183105469,
          120.86000061035156,
          119.5999984741211,
          121.86000061035156,
          118.98999786376953,
          116.91000366210938,
          117.5999984741211,
          119.20999908447266,
          120.87999725341797,
          119.70500183105469,
          120.05999755859375,
          119.25,
          120.08999633789062,
          116.63999938964844,
          115.83000183105469,
          119,
          121.05999755859375,
          124.9000015258789,
          124.5,
          123.30000305175781,
          122.47000122070312,
          118.68499755859375,
          119.06999969482422,
          121.37999725341797,
          121.52999877929688,
          128.7100067138672,
          129.17999267578125,
          130.9199981689453,
          132.1300048828125,
          130.75,
          127.8499984741211,
          127.7750015258789,
          128.31500244140625,
          129.42999267578125,
          130.1300048828125,
          129.5050048828125,
          130.03500366210938,
          128.75,
          129.58999633789062,
          129.81900024414062,
          128.4600067138672,
          129.85000610351562,
          127,
          127.16000366210938,
          128.9250030517578,
          130.50999450683594,
          130.3000030517578,
          128.0399932861328,
          130.85000610351562,
          132.97999572753906,
          135.02099609375,
          136.82000732421875,
          135.94000244140625,
          135.55999755859375,
          134.69000244140625,
          133.9600067138672,
          135.8699951171875,
          136.5500030517578,
          135.92999267578125,
          134.92999267578125,
          137.05999755859375,
          137.17999267578125,
          137.6300048828125,
          137.5,
          134.52000427246094,
          131.08999633789062,
          130.50999450683594,
          130.02999877929688,
          128.19000244140625,
          129.3800048828125,
          130.69000244140625,
          131.32000732421875,
          132.06500244140625,
          132.81500244140625,
          133.42999267578125,
          134.4550018310547,
          134.94000244140625,
          136.6999969482422,
          138.42999267578125,
          139.83999633789062,
          139.4499969482422,
          137.97000122070312,
          139.32000732421875,
          138.5290069580078,
          138.7050018310547,
          138.60000610351562,
          136.2449951171875,
          135.11000061035156,
          138.75,
          126.08999633789062,
          122.31999969482422,
          121.45999908447266,
          123.87999725341797,
          123.92500305175781,
          124.92500305175781,
          128.11000061035156,
          129.00999450683594,
          129.92999267578125,
          131.13999938964844,
          132.16000366210938,
          131.50999450683594,
          130.8699951171875,
          132.77000427246094,
          135.10000610351562,
          135.3300018310547,
          136.0800018310547,
          135.47999572753906,
          135.49000549316406,
          137.7050018310547,
          139,
          137.47000122070312,
          137.5399932861328,
          137.0399932861328,
          136.2949981689453,
          132.7899932861328,
          132.15199279785156,
          129.39999389648438,
          129.72999572753906,
          131.30999755859375,
          136.22999572753906,
          135.57000732421875,
          132.88999938964844,
          132.8300018310547,
          132.9499969482422,
          131.05999755859375,
          132.6300048828125,
          133.77000427246094,
          137.4499969482422,
          139.41000366210938,
          140.47300720214844,
          142.05499267578125,
          142.5,
          141.05099487304688,
          140.8280029296875,
          139.89999389648438
         ],
         "open": [
          89.83000183105469,
          91.01000213623047,
          88.06999969482422,
          87.36000061035156,
          89.19499969482422,
          86.72000122070312,
          90.05999755859375,
          92.4000015258789,
          91.52799987792969,
          92.77999877929688,
          92.94000244140625,
          91.38999938964844,
          95.94999694824219,
          99.12999725341797,
          99.55000305175781,
          97.19999694824219,
          98.27999877929688,
          99.05000305175781,
          98.74500274658203,
          97.86000061035156,
          99.73999786376953,
          106.79000091552734,
          103.51000213623047,
          102.68499755859375,
          103.62999725341797,
          102.69000244140625,
          100.54000091552734,
          95.73999786376953,
          95.01000213623047,
          94.66000366210938,
          94.73999786376953,
          95.54000091552734,
          95.06999969482422,
          93.23999786376953,
          91.93399810791016,
          92.12999725341797,
          89.62999725341797,
          90.08999633789062,
          89.54000091552734,
          90.16000366210938,
          89.86000061035156,
          92.73999786376953,
          94.36000061035156,
          95.41999816894531,
          94.40499877929688,
          94.48999786376953,
          92.5,
          90.56500244140625,
          93.06999969482422,
          93.54000091552734,
          96.56999969482422,
          100.83999633789062,
          101.05999755859375,
          101.9800033569336,
          105.13999938964844,
          105.88999938964844,
          105.73999786376953,
          105.31999969482422,
          103,
          102.72000122070312,
          101.44000244140625,
          101.70999908447266,
          102.66999816894531,
          104.83999633789062,
          106.12000274658203,
          105.7699966430664,
          107.38999938964844,
          106.91999816894531,
          107.38999938964844,
          106.47000122070312,
          107.69000244140625,
          105.43000030517578,
          107,
          104.21499633789062,
          104.6500015258789,
          106.08999633789062,
          106.05000305175781,
          106.61000061035156,
          105.55999755859375,
          105.2300033569336,
          107.80000305175781,
          107.72000122070312,
          107.66000366210938,
          106.22000122070312,
          106.16000366210938,
          105.31999969482422,
          105.79499816894531,
          108.77999877929688,
          108.55000305175781,
          115.86000061035156,
          117,
          116.48999786376953,
          116.83000183105469,
          120.18000030517578,
          121.55999755859375,
          124.19999694824219,
          123.51000213623047,
          124.93000030517578,
          121.87999725341797,
          125.20999908447266,
          124.06500244140625,
          126.29000091552734,
          123.69999694824219,
          123.5,
          124.48999786376953,
          124.61000061035156,
          126.5999984741211,
          127.57499694824219,
          122.58499908447266,
          122.55999755859375,
          123.3949966430664,
          125.6500015258789,
          123.80000305175781,
          123.87999725341797,
          126.69999694824219,
          123.53500366210938,
          123.23500061035156,
          120.66000366210938,
          122.04000091552734,
          121.46600341796875,
          117.83999633789062,
          117.95999908447266,
          120.08999633789062,
          121.0999984741211,
          120.31999969482422,
          120.05999755859375,
          120.63999938964844,
          120.88999938964844,
          119.06999969482422,
          116.76000213623047,
          119.30000305175781,
          121.54000091552734,
          125.12999725341797,
          126.05999755859375,
          124.90499877929688,
          124.79000091552734,
          122.12000274658203,
          120.87000274658203,
          121.9260025024414,
          121.87999725341797,
          130.36000061035156,
          131.8000030517578,
          130.97000122070312,
          133.00999450683594,
          130.85499572753906,
          129.83999633789062,
          128.3699951171875,
          129.60000610351562,
          129.50999450683594,
          130.97999572753906,
          132.19000244140625,
          131.97000122070312,
          129.20199584960938,
          129.85000610351562,
          131.58999633789062,
          129.27999877929688,
          130.4499969482422,
          129.05999755859375,
          127.8499984741211,
          129.1300048828125,
          130.85000610351562,
          134.7270050048828,
          130.13999938964844,
          132.0800018310547,
          132.9980010986328,
          135.57000732421875,
          137.0500030517578,
          138.42999267578125,
          136.44000244140625,
          137.01499938964844,
          134.60000610351562,
          135.8699951171875,
          137.3800048828125,
          137.1300048828125,
          135.89999389648438,
          138.38999938964844,
          138.8000030517578,
          137.6300048828125,
          138.25,
          138.8300018310547,
          132.38999938964844,
          131.67999267578125,
          130.77000427246094,
          130.91400146484375,
          129.44000244140625,
          130.69000244140625,
          134.0800018310547,
          132.15499877929688,
          134.92999267578125,
          133.66000366210938,
          136.1300048828125,
          134.94000244140625,
          137.99000549316406,
          139.50999450683594,
          139.85000610351562,
          142.16000366210938,
          140.64999389648438,
          139.72999572753906,
          140.02999877929688,
          140.75,
          139.8000030517578,
          138.58999633789062,
          136.22999572753906,
          139.16000366210938,
          129.77000427246094,
          124.47000122070312,
          124.02999877929688,
          124.45999908447266,
          126.2699966430664,
          125.33999633789062,
          129.55999755859375,
          129.08999633789062,
          130.22000122070312,
          131.97999572753906,
          132.36000061035156,
          133.36000061035156,
          131.52999877929688,
          133.36000061035156,
          135.64999389648438,
          136.63999938964844,
          136.9600067138672,
          137.82000732421875,
          135.5,
          137.94000244140625,
          139.10000610351562,
          139.5399932861328,
          137.57000732421875,
          137.6300048828125,
          138.98500061035156,
          136.39999389648438,
          133.32000732421875,
          131.29400634765625,
          130.3699951171875,
          132.89999389648438,
          136.60000610351562,
          135.66000366210938,
          133.82000732421875,
          133.27000427246094,
          134.5449981689453,
          134.77000427246094,
          132.9199981689453,
          133.86000061035156,
          138,
          140.3300018310547,
          140.77000427246094,
          142.1300048828125,
          142.97999572753906,
          142.8300018310547,
          141.85000610351562,
          140.67999267578125
         ],
         "type": "candlestick",
         "x": [
          "2023-01-03T00:00:00",
          "2023-01-04T00:00:00",
          "2023-01-05T00:00:00",
          "2023-01-06T00:00:00",
          "2023-01-09T00:00:00",
          "2023-01-10T00:00:00",
          "2023-01-11T00:00:00",
          "2023-01-12T00:00:00",
          "2023-01-13T00:00:00",
          "2023-01-17T00:00:00",
          "2023-01-18T00:00:00",
          "2023-01-19T00:00:00",
          "2023-01-20T00:00:00",
          "2023-01-23T00:00:00",
          "2023-01-24T00:00:00",
          "2023-01-25T00:00:00",
          "2023-01-26T00:00:00",
          "2023-01-27T00:00:00",
          "2023-01-30T00:00:00",
          "2023-01-31T00:00:00",
          "2023-02-01T00:00:00",
          "2023-02-02T00:00:00",
          "2023-02-03T00:00:00",
          "2023-02-06T00:00:00",
          "2023-02-07T00:00:00",
          "2023-02-08T00:00:00",
          "2023-02-09T00:00:00",
          "2023-02-10T00:00:00",
          "2023-02-13T00:00:00",
          "2023-02-14T00:00:00",
          "2023-02-15T00:00:00",
          "2023-02-16T00:00:00",
          "2023-02-17T00:00:00",
          "2023-02-21T00:00:00",
          "2023-02-22T00:00:00",
          "2023-02-23T00:00:00",
          "2023-02-24T00:00:00",
          "2023-02-27T00:00:00",
          "2023-02-28T00:00:00",
          "2023-03-01T00:00:00",
          "2023-03-02T00:00:00",
          "2023-03-03T00:00:00",
          "2023-03-06T00:00:00",
          "2023-03-07T00:00:00",
          "2023-03-08T00:00:00",
          "2023-03-09T00:00:00",
          "2023-03-10T00:00:00",
          "2023-03-13T00:00:00",
          "2023-03-14T00:00:00",
          "2023-03-15T00:00:00",
          "2023-03-16T00:00:00",
          "2023-03-17T00:00:00",
          "2023-03-20T00:00:00",
          "2023-03-21T00:00:00",
          "2023-03-22T00:00:00",
          "2023-03-23T00:00:00",
          "2023-03-24T00:00:00",
          "2023-03-27T00:00:00",
          "2023-03-28T00:00:00",
          "2023-03-29T00:00:00",
          "2023-03-30T00:00:00",
          "2023-03-31T00:00:00",
          "2023-04-03T00:00:00",
          "2023-04-04T00:00:00",
          "2023-04-05T00:00:00",
          "2023-04-06T00:00:00",
          "2023-04-10T00:00:00",
          "2023-04-11T00:00:00",
          "2023-04-12T00:00:00",
          "2023-04-13T00:00:00",
          "2023-04-14T00:00:00",
          "2023-04-17T00:00:00",
          "2023-04-18T00:00:00",
          "2023-04-19T00:00:00",
          "2023-04-20T00:00:00",
          "2023-04-21T00:00:00",
          "2023-04-24T00:00:00",
          "2023-04-25T00:00:00",
          "2023-04-26T00:00:00",
          "2023-04-27T00:00:00",
          "2023-04-28T00:00:00",
          "2023-05-01T00:00:00",
          "2023-05-02T00:00:00",
          "2023-05-03T00:00:00",
          "2023-05-04T00:00:00",
          "2023-05-05T00:00:00",
          "2023-05-08T00:00:00",
          "2023-05-09T00:00:00",
          "2023-05-10T00:00:00",
          "2023-05-11T00:00:00",
          "2023-05-12T00:00:00",
          "2023-05-15T00:00:00",
          "2023-05-16T00:00:00",
          "2023-05-17T00:00:00",
          "2023-05-18T00:00:00",
          "2023-05-19T00:00:00",
          "2023-05-22T00:00:00",
          "2023-05-23T00:00:00",
          "2023-05-24T00:00:00",
          "2023-05-25T00:00:00",
          "2023-05-26T00:00:00",
          "2023-05-30T00:00:00",
          "2023-05-31T00:00:00",
          "2023-06-01T00:00:00",
          "2023-06-02T00:00:00",
          "2023-06-05T00:00:00",
          "2023-06-06T00:00:00",
          "2023-06-07T00:00:00",
          "2023-06-08T00:00:00",
          "2023-06-09T00:00:00",
          "2023-06-12T00:00:00",
          "2023-06-13T00:00:00",
          "2023-06-14T00:00:00",
          "2023-06-15T00:00:00",
          "2023-06-16T00:00:00",
          "2023-06-20T00:00:00",
          "2023-06-21T00:00:00",
          "2023-06-22T00:00:00",
          "2023-06-23T00:00:00",
          "2023-06-26T00:00:00",
          "2023-06-27T00:00:00",
          "2023-06-28T00:00:00",
          "2023-06-29T00:00:00",
          "2023-06-30T00:00:00",
          "2023-07-03T00:00:00",
          "2023-07-05T00:00:00",
          "2023-07-06T00:00:00",
          "2023-07-07T00:00:00",
          "2023-07-10T00:00:00",
          "2023-07-11T00:00:00",
          "2023-07-12T00:00:00",
          "2023-07-13T00:00:00",
          "2023-07-14T00:00:00",
          "2023-07-17T00:00:00",
          "2023-07-18T00:00:00",
          "2023-07-19T00:00:00",
          "2023-07-20T00:00:00",
          "2023-07-21T00:00:00",
          "2023-07-24T00:00:00",
          "2023-07-25T00:00:00",
          "2023-07-26T00:00:00",
          "2023-07-27T00:00:00",
          "2023-07-28T00:00:00",
          "2023-07-31T00:00:00",
          "2023-08-01T00:00:00",
          "2023-08-02T00:00:00",
          "2023-08-03T00:00:00",
          "2023-08-04T00:00:00",
          "2023-08-07T00:00:00",
          "2023-08-08T00:00:00",
          "2023-08-09T00:00:00",
          "2023-08-10T00:00:00",
          "2023-08-11T00:00:00",
          "2023-08-14T00:00:00",
          "2023-08-15T00:00:00",
          "2023-08-16T00:00:00",
          "2023-08-17T00:00:00",
          "2023-08-18T00:00:00",
          "2023-08-21T00:00:00",
          "2023-08-22T00:00:00",
          "2023-08-23T00:00:00",
          "2023-08-24T00:00:00",
          "2023-08-25T00:00:00",
          "2023-08-28T00:00:00",
          "2023-08-29T00:00:00",
          "2023-08-30T00:00:00",
          "2023-08-31T00:00:00",
          "2023-09-01T00:00:00",
          "2023-09-05T00:00:00",
          "2023-09-06T00:00:00",
          "2023-09-07T00:00:00",
          "2023-09-08T00:00:00",
          "2023-09-11T00:00:00",
          "2023-09-12T00:00:00",
          "2023-09-13T00:00:00",
          "2023-09-14T00:00:00",
          "2023-09-15T00:00:00",
          "2023-09-18T00:00:00",
          "2023-09-19T00:00:00",
          "2023-09-20T00:00:00",
          "2023-09-21T00:00:00",
          "2023-09-22T00:00:00",
          "2023-09-25T00:00:00",
          "2023-09-26T00:00:00",
          "2023-09-27T00:00:00",
          "2023-09-28T00:00:00",
          "2023-09-29T00:00:00",
          "2023-10-02T00:00:00",
          "2023-10-03T00:00:00",
          "2023-10-04T00:00:00",
          "2023-10-05T00:00:00",
          "2023-10-06T00:00:00",
          "2023-10-09T00:00:00",
          "2023-10-10T00:00:00",
          "2023-10-11T00:00:00",
          "2023-10-12T00:00:00",
          "2023-10-13T00:00:00",
          "2023-10-16T00:00:00",
          "2023-10-17T00:00:00",
          "2023-10-18T00:00:00",
          "2023-10-19T00:00:00",
          "2023-10-20T00:00:00",
          "2023-10-23T00:00:00",
          "2023-10-24T00:00:00",
          "2023-10-25T00:00:00",
          "2023-10-26T00:00:00",
          "2023-10-27T00:00:00",
          "2023-10-30T00:00:00",
          "2023-10-31T00:00:00",
          "2023-11-01T00:00:00",
          "2023-11-02T00:00:00",
          "2023-11-03T00:00:00",
          "2023-11-06T00:00:00",
          "2023-11-07T00:00:00",
          "2023-11-08T00:00:00",
          "2023-11-09T00:00:00",
          "2023-11-10T00:00:00",
          "2023-11-13T00:00:00",
          "2023-11-14T00:00:00",
          "2023-11-15T00:00:00",
          "2023-11-16T00:00:00",
          "2023-11-17T00:00:00",
          "2023-11-20T00:00:00",
          "2023-11-21T00:00:00",
          "2023-11-22T00:00:00",
          "2023-11-24T00:00:00",
          "2023-11-27T00:00:00",
          "2023-11-28T00:00:00",
          "2023-11-29T00:00:00",
          "2023-11-30T00:00:00",
          "2023-12-01T00:00:00",
          "2023-12-04T00:00:00",
          "2023-12-05T00:00:00",
          "2023-12-06T00:00:00",
          "2023-12-07T00:00:00",
          "2023-12-08T00:00:00",
          "2023-12-11T00:00:00",
          "2023-12-12T00:00:00",
          "2023-12-13T00:00:00",
          "2023-12-14T00:00:00",
          "2023-12-15T00:00:00",
          "2023-12-18T00:00:00",
          "2023-12-19T00:00:00",
          "2023-12-20T00:00:00",
          "2023-12-21T00:00:00",
          "2023-12-22T00:00:00",
          "2023-12-26T00:00:00",
          "2023-12-27T00:00:00",
          "2023-12-28T00:00:00",
          "2023-12-29T00:00:00"
         ]
        }
       ],
       "layout": {
        "template": {
         "data": {
          "bar": [
           {
            "error_x": {
             "color": "#2a3f5f"
            },
            "error_y": {
             "color": "#2a3f5f"
            },
            "marker": {
             "line": {
              "color": "#E5ECF6",
              "width": 0.5
             },
             "pattern": {
              "fillmode": "overlay",
              "size": 10,
              "solidity": 0.2
             }
            },
            "type": "bar"
           }
          ],
          "barpolar": [
           {
            "marker": {
             "line": {
              "color": "#E5ECF6",
              "width": 0.5
             },
             "pattern": {
              "fillmode": "overlay",
              "size": 10,
              "solidity": 0.2
             }
            },
            "type": "barpolar"
           }
          ],
          "carpet": [
           {
            "aaxis": {
             "endlinecolor": "#2a3f5f",
             "gridcolor": "white",
             "linecolor": "white",
             "minorgridcolor": "white",
             "startlinecolor": "#2a3f5f"
            },
            "baxis": {
             "endlinecolor": "#2a3f5f",
             "gridcolor": "white",
             "linecolor": "white",
             "minorgridcolor": "white",
             "startlinecolor": "#2a3f5f"
            },
            "type": "carpet"
           }
          ],
          "choropleth": [
           {
            "colorbar": {
             "outlinewidth": 0,
             "ticks": ""
            },
            "type": "choropleth"
           }
          ],
          "contour": [
           {
            "colorbar": {
             "outlinewidth": 0,
             "ticks": ""
            },
            "colorscale": [
             [
              0,
              "#0d0887"
             ],
             [
              0.1111111111111111,
              "#46039f"
             ],
             [
              0.2222222222222222,
              "#7201a8"
             ],
             [
              0.3333333333333333,
              "#9c179e"
             ],
             [
              0.4444444444444444,
              "#bd3786"
             ],
             [
              0.5555555555555556,
              "#d8576b"
             ],
             [
              0.6666666666666666,
              "#ed7953"
             ],
             [
              0.7777777777777778,
              "#fb9f3a"
             ],
             [
              0.8888888888888888,
              "#fdca26"
             ],
             [
              1,
              "#f0f921"
             ]
            ],
            "type": "contour"
           }
          ],
          "contourcarpet": [
           {
            "colorbar": {
             "outlinewidth": 0,
             "ticks": ""
            },
            "type": "contourcarpet"
           }
          ],
          "heatmap": [
           {
            "colorbar": {
             "outlinewidth": 0,
             "ticks": ""
            },
            "colorscale": [
             [
              0,
              "#0d0887"
             ],
             [
              0.1111111111111111,
              "#46039f"
             ],
             [
              0.2222222222222222,
              "#7201a8"
             ],
             [
              0.3333333333333333,
              "#9c179e"
             ],
             [
              0.4444444444444444,
              "#bd3786"
             ],
             [
              0.5555555555555556,
              "#d8576b"
             ],
             [
              0.6666666666666666,
              "#ed7953"
             ],
             [
              0.7777777777777778,
              "#fb9f3a"
             ],
             [
              0.8888888888888888,
              "#fdca26"
             ],
             [
              1,
              "#f0f921"
             ]
            ],
            "type": "heatmap"
           }
          ],
          "heatmapgl": [
           {
            "colorbar": {
             "outlinewidth": 0,
             "ticks": ""
            },
            "colorscale": [
             [
              0,
              "#0d0887"
             ],
             [
              0.1111111111111111,
              "#46039f"
             ],
             [
              0.2222222222222222,
              "#7201a8"
             ],
             [
              0.3333333333333333,
              "#9c179e"
             ],
             [
              0.4444444444444444,
              "#bd3786"
             ],
             [
              0.5555555555555556,
              "#d8576b"
             ],
             [
              0.6666666666666666,
              "#ed7953"
             ],
             [
              0.7777777777777778,
              "#fb9f3a"
             ],
             [
              0.8888888888888888,
              "#fdca26"
             ],
             [
              1,
              "#f0f921"
             ]
            ],
            "type": "heatmapgl"
           }
          ],
          "histogram": [
           {
            "marker": {
             "pattern": {
              "fillmode": "overlay",
              "size": 10,
              "solidity": 0.2
             }
            },
            "type": "histogram"
           }
          ],
          "histogram2d": [
           {
            "colorbar": {
             "outlinewidth": 0,
             "ticks": ""
            },
            "colorscale": [
             [
              0,
              "#0d0887"
             ],
             [
              0.1111111111111111,
              "#46039f"
             ],
             [
              0.2222222222222222,
              "#7201a8"
             ],
             [
              0.3333333333333333,
              "#9c179e"
             ],
             [
              0.4444444444444444,
              "#bd3786"
             ],
             [
              0.5555555555555556,
              "#d8576b"
             ],
             [
              0.6666666666666666,
              "#ed7953"
             ],
             [
              0.7777777777777778,
              "#fb9f3a"
             ],
             [
              0.8888888888888888,
              "#fdca26"
             ],
             [
              1,
              "#f0f921"
             ]
            ],
            "type": "histogram2d"
           }
          ],
          "histogram2dcontour": [
           {
            "colorbar": {
             "outlinewidth": 0,
             "ticks": ""
            },
            "colorscale": [
             [
              0,
              "#0d0887"
             ],
             [
              0.1111111111111111,
              "#46039f"
             ],
             [
              0.2222222222222222,
              "#7201a8"
             ],
             [
              0.3333333333333333,
              "#9c179e"
             ],
             [
              0.4444444444444444,
              "#bd3786"
             ],
             [
              0.5555555555555556,
              "#d8576b"
             ],
             [
              0.6666666666666666,
              "#ed7953"
             ],
             [
              0.7777777777777778,
              "#fb9f3a"
             ],
             [
              0.8888888888888888,
              "#fdca26"
             ],
             [
              1,
              "#f0f921"
             ]
            ],
            "type": "histogram2dcontour"
           }
          ],
          "mesh3d": [
           {
            "colorbar": {
             "outlinewidth": 0,
             "ticks": ""
            },
            "type": "mesh3d"
           }
          ],
          "parcoords": [
           {
            "line": {
             "colorbar": {
              "outlinewidth": 0,
              "ticks": ""
             }
            },
            "type": "parcoords"
           }
          ],
          "pie": [
           {
            "automargin": true,
            "type": "pie"
           }
          ],
          "scatter": [
           {
            "fillpattern": {
             "fillmode": "overlay",
             "size": 10,
             "solidity": 0.2
            },
            "type": "scatter"
           }
          ],
          "scatter3d": [
           {
            "line": {
             "colorbar": {
              "outlinewidth": 0,
              "ticks": ""
             }
            },
            "marker": {
             "colorbar": {
              "outlinewidth": 0,
              "ticks": ""
             }
            },
            "type": "scatter3d"
           }
          ],
          "scattercarpet": [
           {
            "marker": {
             "colorbar": {
              "outlinewidth": 0,
              "ticks": ""
             }
            },
            "type": "scattercarpet"
           }
          ],
          "scattergeo": [
           {
            "marker": {
             "colorbar": {
              "outlinewidth": 0,
              "ticks": ""
             }
            },
            "type": "scattergeo"
           }
          ],
          "scattergl": [
           {
            "marker": {
             "colorbar": {
              "outlinewidth": 0,
              "ticks": ""
             }
            },
            "type": "scattergl"
           }
          ],
          "scattermapbox": [
           {
            "marker": {
             "colorbar": {
              "outlinewidth": 0,
              "ticks": ""
             }
            },
            "type": "scattermapbox"
           }
          ],
          "scatterpolar": [
           {
            "marker": {
             "colorbar": {
              "outlinewidth": 0,
              "ticks": ""
             }
            },
            "type": "scatterpolar"
           }
          ],
          "scatterpolargl": [
           {
            "marker": {
             "colorbar": {
              "outlinewidth": 0,
              "ticks": ""
             }
            },
            "type": "scatterpolargl"
           }
          ],
          "scatterternary": [
           {
            "marker": {
             "colorbar": {
              "outlinewidth": 0,
              "ticks": ""
             }
            },
            "type": "scatterternary"
           }
          ],
          "surface": [
           {
            "colorbar": {
             "outlinewidth": 0,
             "ticks": ""
            },
            "colorscale": [
             [
              0,
              "#0d0887"
             ],
             [
              0.1111111111111111,
              "#46039f"
             ],
             [
              0.2222222222222222,
              "#7201a8"
             ],
             [
              0.3333333333333333,
              "#9c179e"
             ],
             [
              0.4444444444444444,
              "#bd3786"
             ],
             [
              0.5555555555555556,
              "#d8576b"
             ],
             [
              0.6666666666666666,
              "#ed7953"
             ],
             [
              0.7777777777777778,
              "#fb9f3a"
             ],
             [
              0.8888888888888888,
              "#fdca26"
             ],
             [
              1,
              "#f0f921"
             ]
            ],
            "type": "surface"
           }
          ],
          "table": [
           {
            "cells": {
             "fill": {
              "color": "#EBF0F8"
             },
             "line": {
              "color": "white"
             }
            },
            "header": {
             "fill": {
              "color": "#C8D4E3"
             },
             "line": {
              "color": "white"
             }
            },
            "type": "table"
           }
          ]
         },
         "layout": {
          "annotationdefaults": {
           "arrowcolor": "#2a3f5f",
           "arrowhead": 0,
           "arrowwidth": 1
          },
          "autotypenumbers": "strict",
          "coloraxis": {
           "colorbar": {
            "outlinewidth": 0,
            "ticks": ""
           }
          },
          "colorscale": {
           "diverging": [
            [
             0,
             "#8e0152"
            ],
            [
             0.1,
             "#c51b7d"
            ],
            [
             0.2,
             "#de77ae"
            ],
            [
             0.3,
             "#f1b6da"
            ],
            [
             0.4,
             "#fde0ef"
            ],
            [
             0.5,
             "#f7f7f7"
            ],
            [
             0.6,
             "#e6f5d0"
            ],
            [
             0.7,
             "#b8e186"
            ],
            [
             0.8,
             "#7fbc41"
            ],
            [
             0.9,
             "#4d9221"
            ],
            [
             1,
             "#276419"
            ]
           ],
           "sequential": [
            [
             0,
             "#0d0887"
            ],
            [
             0.1111111111111111,
             "#46039f"
            ],
            [
             0.2222222222222222,
             "#7201a8"
            ],
            [
             0.3333333333333333,
             "#9c179e"
            ],
            [
             0.4444444444444444,
             "#bd3786"
            ],
            [
             0.5555555555555556,
             "#d8576b"
            ],
            [
             0.6666666666666666,
             "#ed7953"
            ],
            [
             0.7777777777777778,
             "#fb9f3a"
            ],
            [
             0.8888888888888888,
             "#fdca26"
            ],
            [
             1,
             "#f0f921"
            ]
           ],
           "sequentialminus": [
            [
             0,
             "#0d0887"
            ],
            [
             0.1111111111111111,
             "#46039f"
            ],
            [
             0.2222222222222222,
             "#7201a8"
            ],
            [
             0.3333333333333333,
             "#9c179e"
            ],
            [
             0.4444444444444444,
             "#bd3786"
            ],
            [
             0.5555555555555556,
             "#d8576b"
            ],
            [
             0.6666666666666666,
             "#ed7953"
            ],
            [
             0.7777777777777778,
             "#fb9f3a"
            ],
            [
             0.8888888888888888,
             "#fdca26"
            ],
            [
             1,
             "#f0f921"
            ]
           ]
          },
          "colorway": [
           "#636efa",
           "#EF553B",
           "#00cc96",
           "#ab63fa",
           "#FFA15A",
           "#19d3f3",
           "#FF6692",
           "#B6E880",
           "#FF97FF",
           "#FECB52"
          ],
          "font": {
           "color": "#2a3f5f"
          },
          "geo": {
           "bgcolor": "white",
           "lakecolor": "white",
           "landcolor": "#E5ECF6",
           "showlakes": true,
           "showland": true,
           "subunitcolor": "white"
          },
          "hoverlabel": {
           "align": "left"
          },
          "hovermode": "closest",
          "mapbox": {
           "style": "light"
          },
          "paper_bgcolor": "white",
          "plot_bgcolor": "#E5ECF6",
          "polar": {
           "angularaxis": {
            "gridcolor": "white",
            "linecolor": "white",
            "ticks": ""
           },
           "bgcolor": "#E5ECF6",
           "radialaxis": {
            "gridcolor": "white",
            "linecolor": "white",
            "ticks": ""
           }
          },
          "scene": {
           "xaxis": {
            "backgroundcolor": "#E5ECF6",
            "gridcolor": "white",
            "gridwidth": 2,
            "linecolor": "white",
            "showbackground": true,
            "ticks": "",
            "zerolinecolor": "white"
           },
           "yaxis": {
            "backgroundcolor": "#E5ECF6",
            "gridcolor": "white",
            "gridwidth": 2,
            "linecolor": "white",
            "showbackground": true,
            "ticks": "",
            "zerolinecolor": "white"
           },
           "zaxis": {
            "backgroundcolor": "#E5ECF6",
            "gridcolor": "white",
            "gridwidth": 2,
            "linecolor": "white",
            "showbackground": true,
            "ticks": "",
            "zerolinecolor": "white"
           }
          },
          "shapedefaults": {
           "line": {
            "color": "#2a3f5f"
           }
          },
          "ternary": {
           "aaxis": {
            "gridcolor": "white",
            "linecolor": "white",
            "ticks": ""
           },
           "baxis": {
            "gridcolor": "white",
            "linecolor": "white",
            "ticks": ""
           },
           "bgcolor": "#E5ECF6",
           "caxis": {
            "gridcolor": "white",
            "linecolor": "white",
            "ticks": ""
           }
          },
          "title": {
           "x": 0.05
          },
          "xaxis": {
           "automargin": true,
           "gridcolor": "white",
           "linecolor": "white",
           "ticks": "",
           "title": {
            "standoff": 15
           },
           "zerolinecolor": "white",
           "zerolinewidth": 2
          },
          "yaxis": {
           "automargin": true,
           "gridcolor": "white",
           "linecolor": "white",
           "ticks": "",
           "title": {
            "standoff": 15
           },
           "zerolinecolor": "white",
           "zerolinewidth": 2
          }
         }
        },
        "title": {
         "text": "Daily Google Close Price in 2023",
         "x": 0.5
        },
        "xaxis": {
         "rangebreaks": [
          {
           "bounds": [
            "sat",
            "mon"
           ]
          }
         ],
         "title": {
          "text": "Date"
         }
        },
        "yaxis": {
         "title": {
          "text": "Price (USD)"
         }
        }
       }
      }
     },
     "metadata": {},
     "output_type": "display_data"
    }
   ],
   "source": [
    "candlestick = create_candlestick(google_data_daily)\n",
    "\n",
    "fig = go.Figure(data=[candlestick])\n",
    "fig.update_layout(\n",
    "    # include only weekdays\n",
    "    xaxis={\"rangebreaks\": [{\"bounds\": [\"sat\", \"mon\"]}]},\n",
    "    title={\"text\": \"Daily Google Close Price in 2023\", \"x\": 0.5},\n",
    "    xaxis_title=\"Date\",\n",
    "    yaxis_title=\"Price (USD)\",\n",
    ")\n",
    "\n",
    "fig.show()"
   ]
  },
  {
   "cell_type": "markdown",
   "metadata": {},
   "source": [
    "## Resampling\n",
    "\n",
    "Sometimes it is useful to resample stock data to different time granularities. This can be done easily using the `.resample` method. It is also possible to obtain the different granularities directly using `yfinance`, though this may not always be possible."
   ]
  },
  {
   "cell_type": "code",
   "execution_count": 6,
   "metadata": {},
   "outputs": [],
   "source": [
    "# resampling to weekly\n",
    "google_data_resampled = google_data_daily.resample(\"W\").agg(\n",
    "    {\"Open\": \"first\", \"High\": \"max\", \"Low\": \"min\", \"Close\": \"last\"}\n",
    ")"
   ]
  },
  {
   "cell_type": "code",
   "execution_count": 7,
   "metadata": {},
   "outputs": [
    {
     "data": {
      "text/html": [
       "<div>\n",
       "<style scoped>\n",
       "    .dataframe tbody tr th:only-of-type {\n",
       "        vertical-align: middle;\n",
       "    }\n",
       "\n",
       "    .dataframe tbody tr th {\n",
       "        vertical-align: top;\n",
       "    }\n",
       "\n",
       "    .dataframe thead th {\n",
       "        text-align: right;\n",
       "    }\n",
       "</style>\n",
       "<table border=\"1\" class=\"dataframe\">\n",
       "  <thead>\n",
       "    <tr style=\"text-align: right;\">\n",
       "      <th></th>\n",
       "      <th>Open</th>\n",
       "      <th>High</th>\n",
       "      <th>Low</th>\n",
       "      <th>Close</th>\n",
       "    </tr>\n",
       "    <tr>\n",
       "      <th>Date</th>\n",
       "      <th></th>\n",
       "      <th></th>\n",
       "      <th></th>\n",
       "      <th></th>\n",
       "    </tr>\n",
       "  </thead>\n",
       "  <tbody>\n",
       "    <tr>\n",
       "      <th>2023-01-08</th>\n",
       "      <td>89.830002</td>\n",
       "      <td>91.550003</td>\n",
       "      <td>85.570000</td>\n",
       "      <td>88.160004</td>\n",
       "    </tr>\n",
       "    <tr>\n",
       "      <th>2023-01-15</th>\n",
       "      <td>89.195000</td>\n",
       "      <td>92.980003</td>\n",
       "      <td>86.699997</td>\n",
       "      <td>92.800003</td>\n",
       "    </tr>\n",
       "    <tr>\n",
       "      <th>2023-01-22</th>\n",
       "      <td>92.779999</td>\n",
       "      <td>99.419998</td>\n",
       "      <td>90.839996</td>\n",
       "      <td>99.279999</td>\n",
       "    </tr>\n",
       "    <tr>\n",
       "      <th>2023-01-29</th>\n",
       "      <td>99.129997</td>\n",
       "      <td>101.580002</td>\n",
       "      <td>95.262001</td>\n",
       "      <td>100.709999</td>\n",
       "    </tr>\n",
       "    <tr>\n",
       "      <th>2023-02-05</th>\n",
       "      <td>98.745003</td>\n",
       "      <td>108.820000</td>\n",
       "      <td>97.519997</td>\n",
       "      <td>105.220001</td>\n",
       "    </tr>\n",
       "  </tbody>\n",
       "</table>\n",
       "</div>"
      ],
      "text/plain": [
       "                 Open        High        Low       Close\n",
       "Date                                                    \n",
       "2023-01-08  89.830002   91.550003  85.570000   88.160004\n",
       "2023-01-15  89.195000   92.980003  86.699997   92.800003\n",
       "2023-01-22  92.779999   99.419998  90.839996   99.279999\n",
       "2023-01-29  99.129997  101.580002  95.262001  100.709999\n",
       "2023-02-05  98.745003  108.820000  97.519997  105.220001"
      ]
     },
     "execution_count": 7,
     "metadata": {},
     "output_type": "execute_result"
    }
   ],
   "source": [
    "google_data_resampled.head()"
   ]
  },
  {
   "cell_type": "code",
   "execution_count": 8,
   "metadata": {},
   "outputs": [
    {
     "data": {
      "application/vnd.plotly.v1+json": {
       "config": {
        "plotlyServerURL": "https://plot.ly"
       },
       "data": [
        {
         "close": [
          88.16000366210938,
          92.80000305175781,
          99.27999877929688,
          100.70999908447266,
          105.22000122070312,
          94.86000061035156,
          94.58999633789062,
          89.3499984741211,
          94.0199966430664,
          91.01000213623047,
          102.45999908447266,
          106.05999755859375,
          104,
          108.9000015258789,
          109.45999908447266,
          105.91000366210938,
          108.22000122070312,
          106.21499633789062,
          117.91999816894531,
          123.25,
          125.43000030517578,
          125.2300033569336,
          122.87000274658203,
          124.05999755859375,
          123.0199966430664,
          120.97000122070312,
          120.13999938964844,
          125.69999694824219,
          120.30999755859375,
          133.00999450683594,
          128.5399932861328,
          130.1699981689453,
          128.11000061035156,
          130.69000244140625,
          136.8000030517578,
          137.1999969482422,
          138.3000030517578,
          131.25,
          131.85000610351562,
          138.72999572753906,
          138.5800018310547,
          136.74000549316406,
          123.4000015258789,
          130.3699951171875,
          134.05999755859375,
          136.94000244140625,
          138.22000122070312,
          133.32000732421875,
          136.63999938964844,
          133.83999633789062,
          142.72000122070312,
          140.92999267578125
         ],
         "high": [
          91.55000305175781,
          92.9800033569336,
          99.41999816894531,
          101.58000183105469,
          108.81999969482422,
          108.66999816894531,
          97.87999725341797,
          93.41500091552734,
          94.11000061035156,
          96.30000305175781,
          103.48999786376953,
          107.51000213623047,
          105.4000015258789,
          109.62999725341797,
          109.58000183105469,
          107.05000305175781,
          109.1500015258789,
          108.68000030517578,
          118.44000244140625,
          126.47899627685547,
          127.05000305175781,
          126.74500274658203,
          129.5500030517578,
          126.69999694824219,
          125.17500305175781,
          122.72000122070312,
          123.37000274658203,
          127.08999633789062,
          127.27999877929688,
          134.07000732421875,
          133.8300018310547,
          132.64700317382812,
          132.49099731445312,
          134.97000122070312,
          138.5800018310547,
          137.51499938964844,
          139.5500030517578,
          139.92999267578125,
          134.88999938964844,
          139.18600463867188,
          142.3800048828125,
          141.99000549316406,
          140.7100067138672,
          130.72999572753906,
          134.27000427246094,
          138.8800048828125,
          141.10000610351562,
          139.6699981689453,
          140,
          135.03500366210938,
          143.25,
          143.94500732421875
         ],
         "low": [
          85.56999969482422,
          86.69999694824219,
          90.83999633789062,
          95.26200103759766,
          97.5199966430664,
          93.86000061035156,
          92.6500015258789,
          88.86000061035156,
          89.5199966430664,
          90.80000305175781,
          89.94000244140625,
          100.79000091552734,
          100.27999877929688,
          102.37999725341797,
          104.97000122070312,
          103.80000305175781,
          103.2699966430664,
          104.5,
          105.79000091552734,
          116.4800033569336,
          120.75,
          122.88999938964844,
          122.01000213623047,
          122.16000366210938,
          119.5999984741211,
          116.91000366210938,
          119.25,
          115.83000183105469,
          118.68499755859375,
          121.37999725341797,
          127.7750015258789,
          128.75,
          127,
          127.16000366210938,
          130.85000610351562,
          133.9600067138672,
          134.92999267578125,
          130.50999450683594,
          128.19000244140625,
          132.06500244140625,
          136.6999969482422,
          136.2449951171875,
          121.45999908447266,
          123.87999725341797,
          129.92999267578125,
          132.77000427246094,
          135.49000549316406,
          132.15199279785156,
          129.39999389648438,
          131.05999755859375,
          133.77000427246094,
          139.89999389648438
         ],
         "open": [
          89.83000183105469,
          89.19499969482422,
          92.77999877929688,
          99.12999725341797,
          98.74500274658203,
          102.68499755859375,
          95.01000213623047,
          93.23999786376953,
          90.08999633789062,
          94.36000061035156,
          90.56500244140625,
          101.05999755859375,
          105.31999969482422,
          102.66999816894531,
          107.38999938964844,
          105.43000030517578,
          106.05000305175781,
          107.72000122070312,
          105.79499816894531,
          116.48999786376953,
          123.51000213623047,
          126.29000091552734,
          124.61000061035156,
          123.3949966430664,
          123.53500366210938,
          121.46600341796875,
          120.31999969482422,
          119.06999969482422,
          126.05999755859375,
          121.9260025024414,
          133.00999450683594,
          129.50999450683594,
          129.85000610351562,
          127.8499984741211,
          132.0800018310547,
          136.44000244140625,
          137.3800048828125,
          137.6300048828125,
          130.77000427246094,
          132.15499877929688,
          137.99000549316406,
          139.72999572753906,
          136.22999572753906,
          124.45999908447266,
          130.22000122070312,
          133.36000061035156,
          135.5,
          137.57000732421875,
          131.29400634765625,
          133.82000732421875,
          133.86000061035156,
          142.97999572753906
         ],
         "type": "candlestick",
         "x": [
          "2023-01-08T00:00:00",
          "2023-01-15T00:00:00",
          "2023-01-22T00:00:00",
          "2023-01-29T00:00:00",
          "2023-02-05T00:00:00",
          "2023-02-12T00:00:00",
          "2023-02-19T00:00:00",
          "2023-02-26T00:00:00",
          "2023-03-05T00:00:00",
          "2023-03-12T00:00:00",
          "2023-03-19T00:00:00",
          "2023-03-26T00:00:00",
          "2023-04-02T00:00:00",
          "2023-04-09T00:00:00",
          "2023-04-16T00:00:00",
          "2023-04-23T00:00:00",
          "2023-04-30T00:00:00",
          "2023-05-07T00:00:00",
          "2023-05-14T00:00:00",
          "2023-05-21T00:00:00",
          "2023-05-28T00:00:00",
          "2023-06-04T00:00:00",
          "2023-06-11T00:00:00",
          "2023-06-18T00:00:00",
          "2023-06-25T00:00:00",
          "2023-07-02T00:00:00",
          "2023-07-09T00:00:00",
          "2023-07-16T00:00:00",
          "2023-07-23T00:00:00",
          "2023-07-30T00:00:00",
          "2023-08-06T00:00:00",
          "2023-08-13T00:00:00",
          "2023-08-20T00:00:00",
          "2023-08-27T00:00:00",
          "2023-09-03T00:00:00",
          "2023-09-10T00:00:00",
          "2023-09-17T00:00:00",
          "2023-09-24T00:00:00",
          "2023-10-01T00:00:00",
          "2023-10-08T00:00:00",
          "2023-10-15T00:00:00",
          "2023-10-22T00:00:00",
          "2023-10-29T00:00:00",
          "2023-11-05T00:00:00",
          "2023-11-12T00:00:00",
          "2023-11-19T00:00:00",
          "2023-11-26T00:00:00",
          "2023-12-03T00:00:00",
          "2023-12-10T00:00:00",
          "2023-12-17T00:00:00",
          "2023-12-24T00:00:00",
          "2023-12-31T00:00:00"
         ]
        }
       ],
       "layout": {
        "template": {
         "data": {
          "bar": [
           {
            "error_x": {
             "color": "#2a3f5f"
            },
            "error_y": {
             "color": "#2a3f5f"
            },
            "marker": {
             "line": {
              "color": "#E5ECF6",
              "width": 0.5
             },
             "pattern": {
              "fillmode": "overlay",
              "size": 10,
              "solidity": 0.2
             }
            },
            "type": "bar"
           }
          ],
          "barpolar": [
           {
            "marker": {
             "line": {
              "color": "#E5ECF6",
              "width": 0.5
             },
             "pattern": {
              "fillmode": "overlay",
              "size": 10,
              "solidity": 0.2
             }
            },
            "type": "barpolar"
           }
          ],
          "carpet": [
           {
            "aaxis": {
             "endlinecolor": "#2a3f5f",
             "gridcolor": "white",
             "linecolor": "white",
             "minorgridcolor": "white",
             "startlinecolor": "#2a3f5f"
            },
            "baxis": {
             "endlinecolor": "#2a3f5f",
             "gridcolor": "white",
             "linecolor": "white",
             "minorgridcolor": "white",
             "startlinecolor": "#2a3f5f"
            },
            "type": "carpet"
           }
          ],
          "choropleth": [
           {
            "colorbar": {
             "outlinewidth": 0,
             "ticks": ""
            },
            "type": "choropleth"
           }
          ],
          "contour": [
           {
            "colorbar": {
             "outlinewidth": 0,
             "ticks": ""
            },
            "colorscale": [
             [
              0,
              "#0d0887"
             ],
             [
              0.1111111111111111,
              "#46039f"
             ],
             [
              0.2222222222222222,
              "#7201a8"
             ],
             [
              0.3333333333333333,
              "#9c179e"
             ],
             [
              0.4444444444444444,
              "#bd3786"
             ],
             [
              0.5555555555555556,
              "#d8576b"
             ],
             [
              0.6666666666666666,
              "#ed7953"
             ],
             [
              0.7777777777777778,
              "#fb9f3a"
             ],
             [
              0.8888888888888888,
              "#fdca26"
             ],
             [
              1,
              "#f0f921"
             ]
            ],
            "type": "contour"
           }
          ],
          "contourcarpet": [
           {
            "colorbar": {
             "outlinewidth": 0,
             "ticks": ""
            },
            "type": "contourcarpet"
           }
          ],
          "heatmap": [
           {
            "colorbar": {
             "outlinewidth": 0,
             "ticks": ""
            },
            "colorscale": [
             [
              0,
              "#0d0887"
             ],
             [
              0.1111111111111111,
              "#46039f"
             ],
             [
              0.2222222222222222,
              "#7201a8"
             ],
             [
              0.3333333333333333,
              "#9c179e"
             ],
             [
              0.4444444444444444,
              "#bd3786"
             ],
             [
              0.5555555555555556,
              "#d8576b"
             ],
             [
              0.6666666666666666,
              "#ed7953"
             ],
             [
              0.7777777777777778,
              "#fb9f3a"
             ],
             [
              0.8888888888888888,
              "#fdca26"
             ],
             [
              1,
              "#f0f921"
             ]
            ],
            "type": "heatmap"
           }
          ],
          "heatmapgl": [
           {
            "colorbar": {
             "outlinewidth": 0,
             "ticks": ""
            },
            "colorscale": [
             [
              0,
              "#0d0887"
             ],
             [
              0.1111111111111111,
              "#46039f"
             ],
             [
              0.2222222222222222,
              "#7201a8"
             ],
             [
              0.3333333333333333,
              "#9c179e"
             ],
             [
              0.4444444444444444,
              "#bd3786"
             ],
             [
              0.5555555555555556,
              "#d8576b"
             ],
             [
              0.6666666666666666,
              "#ed7953"
             ],
             [
              0.7777777777777778,
              "#fb9f3a"
             ],
             [
              0.8888888888888888,
              "#fdca26"
             ],
             [
              1,
              "#f0f921"
             ]
            ],
            "type": "heatmapgl"
           }
          ],
          "histogram": [
           {
            "marker": {
             "pattern": {
              "fillmode": "overlay",
              "size": 10,
              "solidity": 0.2
             }
            },
            "type": "histogram"
           }
          ],
          "histogram2d": [
           {
            "colorbar": {
             "outlinewidth": 0,
             "ticks": ""
            },
            "colorscale": [
             [
              0,
              "#0d0887"
             ],
             [
              0.1111111111111111,
              "#46039f"
             ],
             [
              0.2222222222222222,
              "#7201a8"
             ],
             [
              0.3333333333333333,
              "#9c179e"
             ],
             [
              0.4444444444444444,
              "#bd3786"
             ],
             [
              0.5555555555555556,
              "#d8576b"
             ],
             [
              0.6666666666666666,
              "#ed7953"
             ],
             [
              0.7777777777777778,
              "#fb9f3a"
             ],
             [
              0.8888888888888888,
              "#fdca26"
             ],
             [
              1,
              "#f0f921"
             ]
            ],
            "type": "histogram2d"
           }
          ],
          "histogram2dcontour": [
           {
            "colorbar": {
             "outlinewidth": 0,
             "ticks": ""
            },
            "colorscale": [
             [
              0,
              "#0d0887"
             ],
             [
              0.1111111111111111,
              "#46039f"
             ],
             [
              0.2222222222222222,
              "#7201a8"
             ],
             [
              0.3333333333333333,
              "#9c179e"
             ],
             [
              0.4444444444444444,
              "#bd3786"
             ],
             [
              0.5555555555555556,
              "#d8576b"
             ],
             [
              0.6666666666666666,
              "#ed7953"
             ],
             [
              0.7777777777777778,
              "#fb9f3a"
             ],
             [
              0.8888888888888888,
              "#fdca26"
             ],
             [
              1,
              "#f0f921"
             ]
            ],
            "type": "histogram2dcontour"
           }
          ],
          "mesh3d": [
           {
            "colorbar": {
             "outlinewidth": 0,
             "ticks": ""
            },
            "type": "mesh3d"
           }
          ],
          "parcoords": [
           {
            "line": {
             "colorbar": {
              "outlinewidth": 0,
              "ticks": ""
             }
            },
            "type": "parcoords"
           }
          ],
          "pie": [
           {
            "automargin": true,
            "type": "pie"
           }
          ],
          "scatter": [
           {
            "fillpattern": {
             "fillmode": "overlay",
             "size": 10,
             "solidity": 0.2
            },
            "type": "scatter"
           }
          ],
          "scatter3d": [
           {
            "line": {
             "colorbar": {
              "outlinewidth": 0,
              "ticks": ""
             }
            },
            "marker": {
             "colorbar": {
              "outlinewidth": 0,
              "ticks": ""
             }
            },
            "type": "scatter3d"
           }
          ],
          "scattercarpet": [
           {
            "marker": {
             "colorbar": {
              "outlinewidth": 0,
              "ticks": ""
             }
            },
            "type": "scattercarpet"
           }
          ],
          "scattergeo": [
           {
            "marker": {
             "colorbar": {
              "outlinewidth": 0,
              "ticks": ""
             }
            },
            "type": "scattergeo"
           }
          ],
          "scattergl": [
           {
            "marker": {
             "colorbar": {
              "outlinewidth": 0,
              "ticks": ""
             }
            },
            "type": "scattergl"
           }
          ],
          "scattermapbox": [
           {
            "marker": {
             "colorbar": {
              "outlinewidth": 0,
              "ticks": ""
             }
            },
            "type": "scattermapbox"
           }
          ],
          "scatterpolar": [
           {
            "marker": {
             "colorbar": {
              "outlinewidth": 0,
              "ticks": ""
             }
            },
            "type": "scatterpolar"
           }
          ],
          "scatterpolargl": [
           {
            "marker": {
             "colorbar": {
              "outlinewidth": 0,
              "ticks": ""
             }
            },
            "type": "scatterpolargl"
           }
          ],
          "scatterternary": [
           {
            "marker": {
             "colorbar": {
              "outlinewidth": 0,
              "ticks": ""
             }
            },
            "type": "scatterternary"
           }
          ],
          "surface": [
           {
            "colorbar": {
             "outlinewidth": 0,
             "ticks": ""
            },
            "colorscale": [
             [
              0,
              "#0d0887"
             ],
             [
              0.1111111111111111,
              "#46039f"
             ],
             [
              0.2222222222222222,
              "#7201a8"
             ],
             [
              0.3333333333333333,
              "#9c179e"
             ],
             [
              0.4444444444444444,
              "#bd3786"
             ],
             [
              0.5555555555555556,
              "#d8576b"
             ],
             [
              0.6666666666666666,
              "#ed7953"
             ],
             [
              0.7777777777777778,
              "#fb9f3a"
             ],
             [
              0.8888888888888888,
              "#fdca26"
             ],
             [
              1,
              "#f0f921"
             ]
            ],
            "type": "surface"
           }
          ],
          "table": [
           {
            "cells": {
             "fill": {
              "color": "#EBF0F8"
             },
             "line": {
              "color": "white"
             }
            },
            "header": {
             "fill": {
              "color": "#C8D4E3"
             },
             "line": {
              "color": "white"
             }
            },
            "type": "table"
           }
          ]
         },
         "layout": {
          "annotationdefaults": {
           "arrowcolor": "#2a3f5f",
           "arrowhead": 0,
           "arrowwidth": 1
          },
          "autotypenumbers": "strict",
          "coloraxis": {
           "colorbar": {
            "outlinewidth": 0,
            "ticks": ""
           }
          },
          "colorscale": {
           "diverging": [
            [
             0,
             "#8e0152"
            ],
            [
             0.1,
             "#c51b7d"
            ],
            [
             0.2,
             "#de77ae"
            ],
            [
             0.3,
             "#f1b6da"
            ],
            [
             0.4,
             "#fde0ef"
            ],
            [
             0.5,
             "#f7f7f7"
            ],
            [
             0.6,
             "#e6f5d0"
            ],
            [
             0.7,
             "#b8e186"
            ],
            [
             0.8,
             "#7fbc41"
            ],
            [
             0.9,
             "#4d9221"
            ],
            [
             1,
             "#276419"
            ]
           ],
           "sequential": [
            [
             0,
             "#0d0887"
            ],
            [
             0.1111111111111111,
             "#46039f"
            ],
            [
             0.2222222222222222,
             "#7201a8"
            ],
            [
             0.3333333333333333,
             "#9c179e"
            ],
            [
             0.4444444444444444,
             "#bd3786"
            ],
            [
             0.5555555555555556,
             "#d8576b"
            ],
            [
             0.6666666666666666,
             "#ed7953"
            ],
            [
             0.7777777777777778,
             "#fb9f3a"
            ],
            [
             0.8888888888888888,
             "#fdca26"
            ],
            [
             1,
             "#f0f921"
            ]
           ],
           "sequentialminus": [
            [
             0,
             "#0d0887"
            ],
            [
             0.1111111111111111,
             "#46039f"
            ],
            [
             0.2222222222222222,
             "#7201a8"
            ],
            [
             0.3333333333333333,
             "#9c179e"
            ],
            [
             0.4444444444444444,
             "#bd3786"
            ],
            [
             0.5555555555555556,
             "#d8576b"
            ],
            [
             0.6666666666666666,
             "#ed7953"
            ],
            [
             0.7777777777777778,
             "#fb9f3a"
            ],
            [
             0.8888888888888888,
             "#fdca26"
            ],
            [
             1,
             "#f0f921"
            ]
           ]
          },
          "colorway": [
           "#636efa",
           "#EF553B",
           "#00cc96",
           "#ab63fa",
           "#FFA15A",
           "#19d3f3",
           "#FF6692",
           "#B6E880",
           "#FF97FF",
           "#FECB52"
          ],
          "font": {
           "color": "#2a3f5f"
          },
          "geo": {
           "bgcolor": "white",
           "lakecolor": "white",
           "landcolor": "#E5ECF6",
           "showlakes": true,
           "showland": true,
           "subunitcolor": "white"
          },
          "hoverlabel": {
           "align": "left"
          },
          "hovermode": "closest",
          "mapbox": {
           "style": "light"
          },
          "paper_bgcolor": "white",
          "plot_bgcolor": "#E5ECF6",
          "polar": {
           "angularaxis": {
            "gridcolor": "white",
            "linecolor": "white",
            "ticks": ""
           },
           "bgcolor": "#E5ECF6",
           "radialaxis": {
            "gridcolor": "white",
            "linecolor": "white",
            "ticks": ""
           }
          },
          "scene": {
           "xaxis": {
            "backgroundcolor": "#E5ECF6",
            "gridcolor": "white",
            "gridwidth": 2,
            "linecolor": "white",
            "showbackground": true,
            "ticks": "",
            "zerolinecolor": "white"
           },
           "yaxis": {
            "backgroundcolor": "#E5ECF6",
            "gridcolor": "white",
            "gridwidth": 2,
            "linecolor": "white",
            "showbackground": true,
            "ticks": "",
            "zerolinecolor": "white"
           },
           "zaxis": {
            "backgroundcolor": "#E5ECF6",
            "gridcolor": "white",
            "gridwidth": 2,
            "linecolor": "white",
            "showbackground": true,
            "ticks": "",
            "zerolinecolor": "white"
           }
          },
          "shapedefaults": {
           "line": {
            "color": "#2a3f5f"
           }
          },
          "ternary": {
           "aaxis": {
            "gridcolor": "white",
            "linecolor": "white",
            "ticks": ""
           },
           "baxis": {
            "gridcolor": "white",
            "linecolor": "white",
            "ticks": ""
           },
           "bgcolor": "#E5ECF6",
           "caxis": {
            "gridcolor": "white",
            "linecolor": "white",
            "ticks": ""
           }
          },
          "title": {
           "x": 0.05
          },
          "xaxis": {
           "automargin": true,
           "gridcolor": "white",
           "linecolor": "white",
           "ticks": "",
           "title": {
            "standoff": 15
           },
           "zerolinecolor": "white",
           "zerolinewidth": 2
          },
          "yaxis": {
           "automargin": true,
           "gridcolor": "white",
           "linecolor": "white",
           "ticks": "",
           "title": {
            "standoff": 15
           },
           "zerolinecolor": "white",
           "zerolinewidth": 2
          }
         }
        },
        "title": {
         "text": "Weekly Google Close Price in 2023",
         "x": 0.5
        },
        "xaxis": {
         "title": {
          "text": "Date"
         }
        },
        "yaxis": {
         "title": {
          "text": "Price (USD)"
         }
        }
       }
      }
     },
     "metadata": {},
     "output_type": "display_data"
    }
   ],
   "source": [
    "# note that start and end weeks may be incomplete\n",
    "candlestick = create_candlestick(google_data_resampled)\n",
    "\n",
    "fig = go.Figure(data=[candlestick])\n",
    "fig.update_layout(\n",
    "    title={\"text\": \"Weekly Google Close Price in 2023\", \"x\": 0.5},\n",
    "    xaxis_title=\"Date\",\n",
    "    yaxis_title=\"Price (USD)\",\n",
    ")\n",
    "\n",
    "fig.show()"
   ]
  },
  {
   "cell_type": "code",
   "execution_count": 9,
   "metadata": {},
   "outputs": [
    {
     "name": "stderr",
     "output_type": "stream",
     "text": [
      "[*********************100%***********************]  1 of 1 completed\n"
     ]
    },
    {
     "data": {
      "application/vnd.plotly.v1+json": {
       "config": {
        "plotlyServerURL": "https://plot.ly"
       },
       "data": [
        {
         "close": [
          88.16000366210938,
          92.80000305175781,
          99.27999877929688,
          100.70999908447266,
          105.22000122070312,
          94.86000061035156,
          94.58999633789062,
          89.3499984741211,
          94.0199966430664,
          91.01000213623047,
          102.45999908447266,
          106.05999755859375,
          104,
          108.9000015258789,
          109.45999908447266,
          105.91000366210938,
          108.22000122070312,
          106.21499633789062,
          117.91999816894531,
          123.25,
          125.43000030517578,
          125.2300033569336,
          122.87000274658203,
          124.05999755859375,
          123.0199966430664,
          120.97000122070312,
          120.13999938964844,
          125.69999694824219,
          120.30999755859375,
          133.00999450683594,
          128.5399932861328,
          130.1699981689453,
          128.11000061035156,
          130.69000244140625,
          136.8000030517578,
          137.1999969482422,
          138.3000030517578,
          131.25,
          131.85000610351562,
          138.72999572753906,
          138.5800018310547,
          136.74000549316406,
          123.4000015258789,
          130.3699951171875,
          134.05999755859375,
          136.94000244140625,
          138.22000122070312,
          133.32000732421875,
          136.63999938964844,
          133.83999633789062,
          142.72000122070312,
          140.92999267578125
         ],
         "high": [
          91.55000305175781,
          92.9800033569336,
          99.41999816894531,
          101.58000183105469,
          108.81999969482422,
          108.66999816894531,
          97.87999725341797,
          93.41500091552734,
          94.11000061035156,
          96.30000305175781,
          103.48999786376953,
          107.51000213623047,
          105.4000015258789,
          109.62999725341797,
          109.58000183105469,
          107.05000305175781,
          109.1500015258789,
          108.68000030517578,
          118.44000244140625,
          126.47899627685547,
          127.05000305175781,
          126.74500274658203,
          129.5500030517578,
          126.69999694824219,
          125.17500305175781,
          122.72000122070312,
          123.37000274658203,
          127.08999633789062,
          127.27999877929688,
          134.07000732421875,
          133.8300018310547,
          132.64700317382812,
          132.49099731445312,
          134.97000122070312,
          138.5800018310547,
          137.51499938964844,
          139.5500030517578,
          139.92999267578125,
          134.88999938964844,
          139.18600463867188,
          142.3800048828125,
          141.99000549316406,
          140.7100067138672,
          130.72999572753906,
          134.27000427246094,
          138.8800048828125,
          141.10000610351562,
          139.6699981689453,
          140,
          135.03500366210938,
          143.25,
          143.94500732421875
         ],
         "low": [
          85.56999969482422,
          86.69999694824219,
          90.83999633789062,
          95.26200103759766,
          97.5199966430664,
          93.86000061035156,
          92.6500015258789,
          88.86000061035156,
          89.5199966430664,
          90.80000305175781,
          89.94000244140625,
          100.79000091552734,
          100.27999877929688,
          102.37999725341797,
          104.97000122070312,
          103.80000305175781,
          103.2699966430664,
          104.5,
          105.79000091552734,
          116.4800033569336,
          120.75,
          122.88999938964844,
          122.01000213623047,
          122.16000366210938,
          119.5999984741211,
          116.91000366210938,
          119.25,
          115.83000183105469,
          118.68499755859375,
          121.37999725341797,
          127.7750015258789,
          128.75,
          127,
          127.16000366210938,
          130.85000610351562,
          133.9600067138672,
          134.92999267578125,
          130.50999450683594,
          128.19000244140625,
          132.06500244140625,
          136.6999969482422,
          136.2449951171875,
          121.45999908447266,
          123.87999725341797,
          129.92999267578125,
          132.77000427246094,
          135.49000549316406,
          132.15199279785156,
          129.39999389648438,
          131.05999755859375,
          133.77000427246094,
          139.89999389648438
         ],
         "open": [
          89.83000183105469,
          89.19499969482422,
          92.77999877929688,
          99.12999725341797,
          98.74500274658203,
          102.68499755859375,
          95.01000213623047,
          93.23999786376953,
          90.08999633789062,
          94.36000061035156,
          90.56500244140625,
          101.05999755859375,
          105.31999969482422,
          102.66999816894531,
          107.38999938964844,
          105.43000030517578,
          106.05000305175781,
          107.72000122070312,
          105.79499816894531,
          116.48999786376953,
          123.51000213623047,
          126.29000091552734,
          124.61000061035156,
          123.3949966430664,
          123.53500366210938,
          121.46600341796875,
          120.31999969482422,
          119.06999969482422,
          126.05999755859375,
          121.9260025024414,
          133.00999450683594,
          129.50999450683594,
          129.85000610351562,
          127.8499984741211,
          132.0800018310547,
          136.44000244140625,
          137.3800048828125,
          137.6300048828125,
          130.77000427246094,
          132.15499877929688,
          137.99000549316406,
          139.72999572753906,
          136.22999572753906,
          124.45999908447266,
          130.22000122070312,
          133.36000061035156,
          135.5,
          137.57000732421875,
          131.29400634765625,
          133.82000732421875,
          133.86000061035156,
          142.97999572753906
         ],
         "type": "candlestick",
         "x": [
          "2023-01-01T00:00:00",
          "2023-01-08T00:00:00",
          "2023-01-15T00:00:00",
          "2023-01-22T00:00:00",
          "2023-01-29T00:00:00",
          "2023-02-05T00:00:00",
          "2023-02-12T00:00:00",
          "2023-02-19T00:00:00",
          "2023-02-26T00:00:00",
          "2023-03-05T00:00:00",
          "2023-03-12T00:00:00",
          "2023-03-19T00:00:00",
          "2023-03-26T00:00:00",
          "2023-04-02T00:00:00",
          "2023-04-09T00:00:00",
          "2023-04-16T00:00:00",
          "2023-04-23T00:00:00",
          "2023-04-30T00:00:00",
          "2023-05-07T00:00:00",
          "2023-05-14T00:00:00",
          "2023-05-21T00:00:00",
          "2023-05-28T00:00:00",
          "2023-06-04T00:00:00",
          "2023-06-11T00:00:00",
          "2023-06-18T00:00:00",
          "2023-06-25T00:00:00",
          "2023-07-02T00:00:00",
          "2023-07-09T00:00:00",
          "2023-07-16T00:00:00",
          "2023-07-23T00:00:00",
          "2023-07-30T00:00:00",
          "2023-08-06T00:00:00",
          "2023-08-13T00:00:00",
          "2023-08-20T00:00:00",
          "2023-08-27T00:00:00",
          "2023-09-03T00:00:00",
          "2023-09-10T00:00:00",
          "2023-09-17T00:00:00",
          "2023-09-24T00:00:00",
          "2023-10-01T00:00:00",
          "2023-10-08T00:00:00",
          "2023-10-15T00:00:00",
          "2023-10-22T00:00:00",
          "2023-10-29T00:00:00",
          "2023-11-05T00:00:00",
          "2023-11-12T00:00:00",
          "2023-11-19T00:00:00",
          "2023-11-26T00:00:00",
          "2023-12-03T00:00:00",
          "2023-12-10T00:00:00",
          "2023-12-17T00:00:00",
          "2023-12-24T00:00:00"
         ]
        }
       ],
       "layout": {
        "template": {
         "data": {
          "bar": [
           {
            "error_x": {
             "color": "#2a3f5f"
            },
            "error_y": {
             "color": "#2a3f5f"
            },
            "marker": {
             "line": {
              "color": "#E5ECF6",
              "width": 0.5
             },
             "pattern": {
              "fillmode": "overlay",
              "size": 10,
              "solidity": 0.2
             }
            },
            "type": "bar"
           }
          ],
          "barpolar": [
           {
            "marker": {
             "line": {
              "color": "#E5ECF6",
              "width": 0.5
             },
             "pattern": {
              "fillmode": "overlay",
              "size": 10,
              "solidity": 0.2
             }
            },
            "type": "barpolar"
           }
          ],
          "carpet": [
           {
            "aaxis": {
             "endlinecolor": "#2a3f5f",
             "gridcolor": "white",
             "linecolor": "white",
             "minorgridcolor": "white",
             "startlinecolor": "#2a3f5f"
            },
            "baxis": {
             "endlinecolor": "#2a3f5f",
             "gridcolor": "white",
             "linecolor": "white",
             "minorgridcolor": "white",
             "startlinecolor": "#2a3f5f"
            },
            "type": "carpet"
           }
          ],
          "choropleth": [
           {
            "colorbar": {
             "outlinewidth": 0,
             "ticks": ""
            },
            "type": "choropleth"
           }
          ],
          "contour": [
           {
            "colorbar": {
             "outlinewidth": 0,
             "ticks": ""
            },
            "colorscale": [
             [
              0,
              "#0d0887"
             ],
             [
              0.1111111111111111,
              "#46039f"
             ],
             [
              0.2222222222222222,
              "#7201a8"
             ],
             [
              0.3333333333333333,
              "#9c179e"
             ],
             [
              0.4444444444444444,
              "#bd3786"
             ],
             [
              0.5555555555555556,
              "#d8576b"
             ],
             [
              0.6666666666666666,
              "#ed7953"
             ],
             [
              0.7777777777777778,
              "#fb9f3a"
             ],
             [
              0.8888888888888888,
              "#fdca26"
             ],
             [
              1,
              "#f0f921"
             ]
            ],
            "type": "contour"
           }
          ],
          "contourcarpet": [
           {
            "colorbar": {
             "outlinewidth": 0,
             "ticks": ""
            },
            "type": "contourcarpet"
           }
          ],
          "heatmap": [
           {
            "colorbar": {
             "outlinewidth": 0,
             "ticks": ""
            },
            "colorscale": [
             [
              0,
              "#0d0887"
             ],
             [
              0.1111111111111111,
              "#46039f"
             ],
             [
              0.2222222222222222,
              "#7201a8"
             ],
             [
              0.3333333333333333,
              "#9c179e"
             ],
             [
              0.4444444444444444,
              "#bd3786"
             ],
             [
              0.5555555555555556,
              "#d8576b"
             ],
             [
              0.6666666666666666,
              "#ed7953"
             ],
             [
              0.7777777777777778,
              "#fb9f3a"
             ],
             [
              0.8888888888888888,
              "#fdca26"
             ],
             [
              1,
              "#f0f921"
             ]
            ],
            "type": "heatmap"
           }
          ],
          "heatmapgl": [
           {
            "colorbar": {
             "outlinewidth": 0,
             "ticks": ""
            },
            "colorscale": [
             [
              0,
              "#0d0887"
             ],
             [
              0.1111111111111111,
              "#46039f"
             ],
             [
              0.2222222222222222,
              "#7201a8"
             ],
             [
              0.3333333333333333,
              "#9c179e"
             ],
             [
              0.4444444444444444,
              "#bd3786"
             ],
             [
              0.5555555555555556,
              "#d8576b"
             ],
             [
              0.6666666666666666,
              "#ed7953"
             ],
             [
              0.7777777777777778,
              "#fb9f3a"
             ],
             [
              0.8888888888888888,
              "#fdca26"
             ],
             [
              1,
              "#f0f921"
             ]
            ],
            "type": "heatmapgl"
           }
          ],
          "histogram": [
           {
            "marker": {
             "pattern": {
              "fillmode": "overlay",
              "size": 10,
              "solidity": 0.2
             }
            },
            "type": "histogram"
           }
          ],
          "histogram2d": [
           {
            "colorbar": {
             "outlinewidth": 0,
             "ticks": ""
            },
            "colorscale": [
             [
              0,
              "#0d0887"
             ],
             [
              0.1111111111111111,
              "#46039f"
             ],
             [
              0.2222222222222222,
              "#7201a8"
             ],
             [
              0.3333333333333333,
              "#9c179e"
             ],
             [
              0.4444444444444444,
              "#bd3786"
             ],
             [
              0.5555555555555556,
              "#d8576b"
             ],
             [
              0.6666666666666666,
              "#ed7953"
             ],
             [
              0.7777777777777778,
              "#fb9f3a"
             ],
             [
              0.8888888888888888,
              "#fdca26"
             ],
             [
              1,
              "#f0f921"
             ]
            ],
            "type": "histogram2d"
           }
          ],
          "histogram2dcontour": [
           {
            "colorbar": {
             "outlinewidth": 0,
             "ticks": ""
            },
            "colorscale": [
             [
              0,
              "#0d0887"
             ],
             [
              0.1111111111111111,
              "#46039f"
             ],
             [
              0.2222222222222222,
              "#7201a8"
             ],
             [
              0.3333333333333333,
              "#9c179e"
             ],
             [
              0.4444444444444444,
              "#bd3786"
             ],
             [
              0.5555555555555556,
              "#d8576b"
             ],
             [
              0.6666666666666666,
              "#ed7953"
             ],
             [
              0.7777777777777778,
              "#fb9f3a"
             ],
             [
              0.8888888888888888,
              "#fdca26"
             ],
             [
              1,
              "#f0f921"
             ]
            ],
            "type": "histogram2dcontour"
           }
          ],
          "mesh3d": [
           {
            "colorbar": {
             "outlinewidth": 0,
             "ticks": ""
            },
            "type": "mesh3d"
           }
          ],
          "parcoords": [
           {
            "line": {
             "colorbar": {
              "outlinewidth": 0,
              "ticks": ""
             }
            },
            "type": "parcoords"
           }
          ],
          "pie": [
           {
            "automargin": true,
            "type": "pie"
           }
          ],
          "scatter": [
           {
            "fillpattern": {
             "fillmode": "overlay",
             "size": 10,
             "solidity": 0.2
            },
            "type": "scatter"
           }
          ],
          "scatter3d": [
           {
            "line": {
             "colorbar": {
              "outlinewidth": 0,
              "ticks": ""
             }
            },
            "marker": {
             "colorbar": {
              "outlinewidth": 0,
              "ticks": ""
             }
            },
            "type": "scatter3d"
           }
          ],
          "scattercarpet": [
           {
            "marker": {
             "colorbar": {
              "outlinewidth": 0,
              "ticks": ""
             }
            },
            "type": "scattercarpet"
           }
          ],
          "scattergeo": [
           {
            "marker": {
             "colorbar": {
              "outlinewidth": 0,
              "ticks": ""
             }
            },
            "type": "scattergeo"
           }
          ],
          "scattergl": [
           {
            "marker": {
             "colorbar": {
              "outlinewidth": 0,
              "ticks": ""
             }
            },
            "type": "scattergl"
           }
          ],
          "scattermapbox": [
           {
            "marker": {
             "colorbar": {
              "outlinewidth": 0,
              "ticks": ""
             }
            },
            "type": "scattermapbox"
           }
          ],
          "scatterpolar": [
           {
            "marker": {
             "colorbar": {
              "outlinewidth": 0,
              "ticks": ""
             }
            },
            "type": "scatterpolar"
           }
          ],
          "scatterpolargl": [
           {
            "marker": {
             "colorbar": {
              "outlinewidth": 0,
              "ticks": ""
             }
            },
            "type": "scatterpolargl"
           }
          ],
          "scatterternary": [
           {
            "marker": {
             "colorbar": {
              "outlinewidth": 0,
              "ticks": ""
             }
            },
            "type": "scatterternary"
           }
          ],
          "surface": [
           {
            "colorbar": {
             "outlinewidth": 0,
             "ticks": ""
            },
            "colorscale": [
             [
              0,
              "#0d0887"
             ],
             [
              0.1111111111111111,
              "#46039f"
             ],
             [
              0.2222222222222222,
              "#7201a8"
             ],
             [
              0.3333333333333333,
              "#9c179e"
             ],
             [
              0.4444444444444444,
              "#bd3786"
             ],
             [
              0.5555555555555556,
              "#d8576b"
             ],
             [
              0.6666666666666666,
              "#ed7953"
             ],
             [
              0.7777777777777778,
              "#fb9f3a"
             ],
             [
              0.8888888888888888,
              "#fdca26"
             ],
             [
              1,
              "#f0f921"
             ]
            ],
            "type": "surface"
           }
          ],
          "table": [
           {
            "cells": {
             "fill": {
              "color": "#EBF0F8"
             },
             "line": {
              "color": "white"
             }
            },
            "header": {
             "fill": {
              "color": "#C8D4E3"
             },
             "line": {
              "color": "white"
             }
            },
            "type": "table"
           }
          ]
         },
         "layout": {
          "annotationdefaults": {
           "arrowcolor": "#2a3f5f",
           "arrowhead": 0,
           "arrowwidth": 1
          },
          "autotypenumbers": "strict",
          "coloraxis": {
           "colorbar": {
            "outlinewidth": 0,
            "ticks": ""
           }
          },
          "colorscale": {
           "diverging": [
            [
             0,
             "#8e0152"
            ],
            [
             0.1,
             "#c51b7d"
            ],
            [
             0.2,
             "#de77ae"
            ],
            [
             0.3,
             "#f1b6da"
            ],
            [
             0.4,
             "#fde0ef"
            ],
            [
             0.5,
             "#f7f7f7"
            ],
            [
             0.6,
             "#e6f5d0"
            ],
            [
             0.7,
             "#b8e186"
            ],
            [
             0.8,
             "#7fbc41"
            ],
            [
             0.9,
             "#4d9221"
            ],
            [
             1,
             "#276419"
            ]
           ],
           "sequential": [
            [
             0,
             "#0d0887"
            ],
            [
             0.1111111111111111,
             "#46039f"
            ],
            [
             0.2222222222222222,
             "#7201a8"
            ],
            [
             0.3333333333333333,
             "#9c179e"
            ],
            [
             0.4444444444444444,
             "#bd3786"
            ],
            [
             0.5555555555555556,
             "#d8576b"
            ],
            [
             0.6666666666666666,
             "#ed7953"
            ],
            [
             0.7777777777777778,
             "#fb9f3a"
            ],
            [
             0.8888888888888888,
             "#fdca26"
            ],
            [
             1,
             "#f0f921"
            ]
           ],
           "sequentialminus": [
            [
             0,
             "#0d0887"
            ],
            [
             0.1111111111111111,
             "#46039f"
            ],
            [
             0.2222222222222222,
             "#7201a8"
            ],
            [
             0.3333333333333333,
             "#9c179e"
            ],
            [
             0.4444444444444444,
             "#bd3786"
            ],
            [
             0.5555555555555556,
             "#d8576b"
            ],
            [
             0.6666666666666666,
             "#ed7953"
            ],
            [
             0.7777777777777778,
             "#fb9f3a"
            ],
            [
             0.8888888888888888,
             "#fdca26"
            ],
            [
             1,
             "#f0f921"
            ]
           ]
          },
          "colorway": [
           "#636efa",
           "#EF553B",
           "#00cc96",
           "#ab63fa",
           "#FFA15A",
           "#19d3f3",
           "#FF6692",
           "#B6E880",
           "#FF97FF",
           "#FECB52"
          ],
          "font": {
           "color": "#2a3f5f"
          },
          "geo": {
           "bgcolor": "white",
           "lakecolor": "white",
           "landcolor": "#E5ECF6",
           "showlakes": true,
           "showland": true,
           "subunitcolor": "white"
          },
          "hoverlabel": {
           "align": "left"
          },
          "hovermode": "closest",
          "mapbox": {
           "style": "light"
          },
          "paper_bgcolor": "white",
          "plot_bgcolor": "#E5ECF6",
          "polar": {
           "angularaxis": {
            "gridcolor": "white",
            "linecolor": "white",
            "ticks": ""
           },
           "bgcolor": "#E5ECF6",
           "radialaxis": {
            "gridcolor": "white",
            "linecolor": "white",
            "ticks": ""
           }
          },
          "scene": {
           "xaxis": {
            "backgroundcolor": "#E5ECF6",
            "gridcolor": "white",
            "gridwidth": 2,
            "linecolor": "white",
            "showbackground": true,
            "ticks": "",
            "zerolinecolor": "white"
           },
           "yaxis": {
            "backgroundcolor": "#E5ECF6",
            "gridcolor": "white",
            "gridwidth": 2,
            "linecolor": "white",
            "showbackground": true,
            "ticks": "",
            "zerolinecolor": "white"
           },
           "zaxis": {
            "backgroundcolor": "#E5ECF6",
            "gridcolor": "white",
            "gridwidth": 2,
            "linecolor": "white",
            "showbackground": true,
            "ticks": "",
            "zerolinecolor": "white"
           }
          },
          "shapedefaults": {
           "line": {
            "color": "#2a3f5f"
           }
          },
          "ternary": {
           "aaxis": {
            "gridcolor": "white",
            "linecolor": "white",
            "ticks": ""
           },
           "baxis": {
            "gridcolor": "white",
            "linecolor": "white",
            "ticks": ""
           },
           "bgcolor": "#E5ECF6",
           "caxis": {
            "gridcolor": "white",
            "linecolor": "white",
            "ticks": ""
           }
          },
          "title": {
           "x": 0.05
          },
          "xaxis": {
           "automargin": true,
           "gridcolor": "white",
           "linecolor": "white",
           "ticks": "",
           "title": {
            "standoff": 15
           },
           "zerolinecolor": "white",
           "zerolinewidth": 2
          },
          "yaxis": {
           "automargin": true,
           "gridcolor": "white",
           "linecolor": "white",
           "ticks": "",
           "title": {
            "standoff": 15
           },
           "zerolinecolor": "white",
           "zerolinewidth": 2
          }
         }
        },
        "title": {
         "text": "Weekly Google Close Price in 2023",
         "x": 0.5
        },
        "xaxis": {
         "title": {
          "text": "Date"
         }
        },
        "yaxis": {
         "title": {
          "text": "Price (USD)"
         }
        }
       }
      }
     },
     "metadata": {},
     "output_type": "display_data"
    }
   ],
   "source": [
    "# compare to weekly data directly from yfinance\n",
    "\n",
    "google_data_weekly = yf.download(\n",
    "    \"GOOG\", interval=\"1wk\", start=\"2023-01-01\", end=\"2024-01-01\"\n",
    ")\n",
    "\n",
    "candlestick = create_candlestick(google_data_weekly)\n",
    "\n",
    "fig = go.Figure(data=[candlestick])\n",
    "fig.update_layout(\n",
    "    title={\"text\": \"Weekly Google Close Price in 2023\", \"x\": 0.5},\n",
    "    xaxis_title=\"Date\",\n",
    "    yaxis_title=\"Price (USD)\",\n",
    ")\n",
    "\n",
    "fig.show()"
   ]
  },
  {
   "cell_type": "markdown",
   "metadata": {},
   "source": [
    "## Plotting Returns\n",
    "\n",
    "Returns is one of the most important metrics in finance. It is useful to calculate, plot anf analyse daily returns (or whichever time granularity is being used). It is easy to calculate returns from a price column (in our case, the 'Close' column) by using the `.pct_change` method. It can then be visualised as a time series or as a histogram.\n",
    "\n"
   ]
  },
  {
   "cell_type": "code",
   "execution_count": 10,
   "metadata": {},
   "outputs": [],
   "source": [
    "# calculate daily returns\n",
    "google_data_daily[\"daily_return\"] = (\n",
    "    google_data_daily[\"Close\"].pct_change() * 100\n",
    ")"
   ]
  },
  {
   "cell_type": "code",
   "execution_count": 11,
   "metadata": {},
   "outputs": [
    {
     "data": {
      "image/png": "[encoded data removed]",
      "text/plain": [
       "<Figure size 640x480 with 1 Axes>"
      ]
     },
     "metadata": {},
     "output_type": "display_data"
    }
   ],
   "source": [
    "plt.plot(google_data_daily[\"daily_return\"])\n",
    "plt.title(\"Daily Returns for Google in 2023\")\n",
    "plt.xlabel(\"Date\")\n",
    "plt.ylabel(\"Returns (%)\")\n",
    "plt.show()"
   ]
  },
  {
   "cell_type": "code",
   "execution_count": 12,
   "metadata": {},
   "outputs": [
    {
     "data": {
      "image/png": "[encoded data removed]",
      "text/plain": [
       "<Figure size 640x480 with 1 Axes>"
      ]
     },
     "metadata": {},
     "output_type": "display_data"
    }
   ],
   "source": [
    "google_data_daily[\"daily_return\"].hist(bins=50)\n",
    "plt.title(\"Histogram of Daily Returns for Google in 2023\")\n",
    "plt.xlabel(\"Returns (%)\")\n",
    "plt.ylabel(\"Frequency\")\n",
    "plt.show()"
   ]
  },
  {
   "cell_type": "markdown",
   "metadata": {},
   "source": [
    "## Statistical Tests on Returns\n",
    "\n",
    "Performing time series analysis on returns or asset price is also very useful. In strategies such as mean reversion it may be useful to conduct tests for statistical proprties such as heteroskedasticity, autocorrelation and normality. Such tests are trialed in this section. First, we will fit a simple linear regression to the returns data, using time as the explanatory (independant) variable. \n",
    "\n",
    "Since the tests we use are frequentist in nature, we will apply a significance level of $0.05$."
   ]
  },
  {
   "cell_type": "code",
   "execution_count": 13,
   "metadata": {},
   "outputs": [],
   "source": [
    "# fitting a linear model\n",
    "google_data_daily.dropna(inplace=True)\n",
    "\n",
    "google_data_daily[\"time_numeric\"] = np.arange(len(google_data_daily))\n",
    "\n",
    "X = sm.add_constant(google_data_daily[\"time_numeric\"])\n",
    "model = sm.OLS(google_data_daily[\"daily_return\"], X).fit()\n",
    "\n",
    "google_data_daily[\"predicted_close\"] = model.predict(X)\n",
    "google_data_daily[\"residuals\"] = model.resid"
   ]
  },
  {
   "cell_type": "code",
   "execution_count": 14,
   "metadata": {},
   "outputs": [
    {
     "data": {
      "image/png": "[encoded data removed]",
      "text/plain": [
       "<Figure size 1000x600 with 1 Axes>"
      ]
     },
     "metadata": {},
     "output_type": "display_data"
    }
   ],
   "source": [
    "plt.figure(figsize=(10, 6))\n",
    "plt.plot(\n",
    "    google_data_daily.index,\n",
    "    google_data_daily[\"daily_return\"],\n",
    "    label=\"Original Data\",\n",
    "    color=\"blue\",\n",
    ")\n",
    "plt.plot(\n",
    "    google_data_daily.index,\n",
    "    google_data_daily[\"predicted_close\"],\n",
    "    label=\"Regression Line\",\n",
    "    color=\"red\",\n",
    ")\n",
    "plt.title(\"Daily Returns for Google in 2023\")\n",
    "plt.xlabel(\"Date\")\n",
    "plt.ylabel(\"Returns (%)\")\n",
    "plt.legend()\n",
    "plt.show()"
   ]
  },
  {
   "cell_type": "markdown",
   "metadata": {},
   "source": [
    "### Testing for Heteroskedasticity\n",
    "\n",
    "In the context of a time series, heteroskedasticity means that the variance of the measured variable changes over time. The [Bresch-Pagan Test](https://www.jstor.org/stable/1911963) can be used to test for this. It is a frequentist test where the null hypothesis is that the time series is homoskedastic, i.e. the variance is constant, and the alternative is that heteroskedasticity is present."
   ]
  },
  {
   "cell_type": "code",
   "execution_count": 15,
   "metadata": {},
   "outputs": [
    {
     "name": "stdout",
     "output_type": "stream",
     "text": [
      "LM Statistic: 3.854820442221614\n",
      "LM Test p-value: 0.049603235956077435\n",
      "F-Statistic: 3.8839868315841235\n",
      "F-Test p-value: 0.04986528404191279\n"
     ]
    }
   ],
   "source": [
    "# testing for homoskedasticity\n",
    "bp_test = het_breuschpagan(google_data_daily[\"residuals\"], X)\n",
    "\n",
    "labels = [\"LM Statistic\", \"LM Test p-value\", \"F-Statistic\", \"F-Test p-value\"]\n",
    "for label, value in zip(labels, bp_test):\n",
    "    print(f\"{label}: {value}\")"
   ]
  },
  {
   "cell_type": "markdown",
   "metadata": {},
   "source": [
    "Since the p-value falls below the the significance threshold of 0.05 we reject the null hypothesis and can condlude that heteroskedasticity is present in the data and that the variance varies over time."
   ]
  },
  {
   "cell_type": "markdown",
   "metadata": {},
   "source": [
    "### Testing for Autocorrelation\n",
    "The [Ljung-Box](https://www.jstor.org/stable/2284333) test is designed to test whether or not the variable in question is correlated with itself lagged over a certain time period, a property that is called autocorrelation. The null hypothesis is that autotocorrelation. is not present and the data are independently distributed, whilst the alternative hypoethesis is that autocorrelation is present.\n",
    "\n",
    "We will test for autocorrelation over one day, 5 days, 10 days and 30 days."
   ]
  },
  {
   "cell_type": "code",
   "execution_count": 16,
   "metadata": {},
   "outputs": [
    {
     "name": "stdout",
     "output_type": "stream",
     "text": [
      "      lb_stat  lb_pvalue\n",
      "1    0.490813   0.483565\n",
      "5    3.922617   0.560610\n",
      "10   7.851724   0.643318\n",
      "30  37.584541   0.160710\n"
     ]
    }
   ],
   "source": [
    "# testing for autocorrelation\n",
    "ljung_box_results = acorr_ljungbox(\n",
    "    google_data_daily[\"daily_return\"], lags=[1, 5, 10, 30], return_df=True\n",
    ")\n",
    "print(ljung_box_results)"
   ]
  },
  {
   "cell_type": "markdown",
   "metadata": {},
   "source": [
    "Since each p-value is greater than 0.05, we fail to reject the null hypothesis. This indicates that there is insufficient evidence to suggest the presence of autocorrelation in the data. In other words, the percentage returns at one time point do not have a statistically significant influence on the returns at future time points, whether it's 1 day, 5 days, 10 days, or 30 days later."
   ]
  },
  {
   "cell_type": "markdown",
   "metadata": {},
   "source": [
    "### Testing for Normality\n",
    "The [Jarque-Bera](https://www.sciencedirect.com/science/article/abs/pii/0165176580900245?via%3Dihub) test for normality examines whether the skewness and kurtosis of the observed data align with those of a normal distribution (0 for skewness and 3 for kurtosis). The null hypothesis assumes normality, while the alternative hypothesis suggests that the data deviate from this, either through differing skewness or kurtosis. This test is particularly useful in time series analysis, as knowing the data's distribution allows us to quantify risk and apply appropriate models. In our case, we will apply the test to the daily returns."
   ]
  },
  {
   "cell_type": "code",
   "execution_count": 17,
   "metadata": {},
   "outputs": [
    {
     "name": "stdout",
     "output_type": "stream",
     "text": [
      "p-value: 2.1517495376416485e-31\n"
     ]
    }
   ],
   "source": [
    "# testing for normality\n",
    "_, jb_pvalue = jarque_bera(google_data_daily[\"daily_return\"])\n",
    "\n",
    "print(\"p-value:\", jb_pvalue)"
   ]
  },
  {
   "cell_type": "markdown",
   "metadata": {},
   "source": [
    "Since the p-value is below 0.05 we can reject the null hypothesis and conclude that the daily returns are not normally distributed"
   ]
  },
  {
   "cell_type": "markdown",
   "metadata": {},
   "source": [
    "## Moving Averages\n",
    "\n",
    "A simple moving average (SMA) calculates the average of the previous $n$ periods (days in our case). An exponential moving average (EMA) gives more weight to recent data, making it more responsive to recent changes. We will compare both the SMA and EMA for the close price for 5, 20 and 50 days."
   ]
  },
  {
   "cell_type": "code",
   "execution_count": 18,
   "metadata": {},
   "outputs": [],
   "source": [
    "google_data_daily[\"SMA_5\"] = google_data_daily[\"Close\"].rolling(5).mean()\n",
    "google_data_daily[\"SMA_20\"] = google_data_daily[\"Close\"].rolling(20).mean()\n",
    "google_data_daily[\"SMA_50\"] = google_data_daily[\"Close\"].rolling(50).mean()"
   ]
  },
  {
   "cell_type": "code",
   "execution_count": 19,
   "metadata": {},
   "outputs": [
    {
     "data": {
      "image/png": "[encoded data removed]",
      "text/plain": [
       "<Figure size 640x480 with 1 Axes>"
      ]
     },
     "metadata": {},
     "output_type": "display_data"
    }
   ],
   "source": [
    "plt.plot(google_data_daily[\"Close\"], label=\"Close Price\")\n",
    "plt.plot(google_data_daily[\"SMA_5\"], label=\"5 Day SMA\")\n",
    "plt.plot(google_data_daily[\"SMA_20\"], label=\"20 Day SMA\")\n",
    "plt.plot(google_data_daily[\"SMA_50\"], label=\"50 Day SMA\")\n",
    "plt.legend()\n",
    "plt.title(\"Daily Google Close Price in 2023 with Simple Moving Averages\")\n",
    "plt.xlabel(\"Date\")\n",
    "plt.ylabel(\"Price (USD)\")\n",
    "plt.show()"
   ]
  },
  {
   "cell_type": "code",
   "execution_count": 20,
   "metadata": {},
   "outputs": [],
   "source": [
    "google_data_daily[\"EMA_5\"] = (\n",
    "    google_data_daily[\"Close\"].ewm(span=5, adjust=False).mean()\n",
    ")\n",
    "google_data_daily[\"EMA_20\"] = (\n",
    "    google_data_daily[\"Close\"].ewm(span=20, adjust=False).mean()\n",
    ")\n",
    "google_data_daily[\"EMA_50\"] = (\n",
    "    google_data_daily[\"Close\"].ewm(span=50, adjust=False).mean()\n",
    ")"
   ]
  },
  {
   "cell_type": "code",
   "execution_count": 21,
   "metadata": {},
   "outputs": [
    {
     "data": {
      "image/png": "[encoded data removed]",
      "text/plain": [
       "<Figure size 640x480 with 1 Axes>"
      ]
     },
     "metadata": {},
     "output_type": "display_data"
    }
   ],
   "source": [
    "plt.plot(google_data_daily[\"Close\"], label=\"Close Price\")\n",
    "plt.plot(google_data_daily[\"EMA_5\"], label=\"5 Day EMA\")\n",
    "plt.plot(google_data_daily[\"EMA_20\"], label=\"20 Day EMA\")\n",
    "plt.plot(google_data_daily[\"EMA_50\"], label=\"50 Day EMA\")\n",
    "plt.legend()\n",
    "plt.title(\"Daily Google Close Price in 2023 With Exponential Moving Averages\")\n",
    "plt.xlabel(\"Date\")\n",
    "plt.ylabel(\"Price (USD)\")\n",
    "plt.show()"
   ]
  },
  {
   "cell_type": "code",
   "execution_count": 22,
   "metadata": {},
   "outputs": [
    {
     "data": {
      "image/png": "[encoded data removed]",
      "text/plain": [
       "<Figure size 640x480 with 1 Axes>"
      ]
     },
     "metadata": {},
     "output_type": "display_data"
    }
   ],
   "source": [
    "plt.plot(google_data_daily[\"Close\"], label=\"Close Price\")\n",
    "plt.plot(google_data_daily[\"SMA_20\"], label=\"20 Day SMA\")\n",
    "plt.plot(google_data_daily[\"EMA_20\"], label=\"20 Day EMA\")\n",
    "plt.legend()\n",
    "plt.title(\"Daily Google Close Price in 2023 Comparing SMA with EMA\")\n",
    "plt.xlabel(\"Date\")\n",
    "plt.ylabel(\"Price (USD)\")\n",
    "plt.show()"
   ]
  },
  {
   "cell_type": "markdown",
   "metadata": {},
   "source": [
    "As expected, the smaller the lookback period, the closer the moving average lines hug the data. Also the EMA responds quicker to sharp changes in price."
   ]
  },
  {
   "cell_type": "markdown",
   "metadata": {},
   "source": [
    "## Next Steps\n",
    "\n",
    "Now that we have established the basics we can proceed to experiment with some simple strategies."
   ]
  }
 ],
 "metadata": {
  "kernelspec": {
   "display_name": ".venv",
   "language": "python",
   "name": "python3"
  },
  "language_info": {
   "codemirror_mode": {
    "name": "ipython",
    "version": 3
   },
   "file_extension": ".py",
   "mimetype": "text/x-python",
   "name": "python",
   "nbconvert_exporter": "python",
   "pygments_lexer": "ipython3",
   "version": "3.10.15"
  }
 },
 "nbformat": 4,
 "nbformat_minor": 2
}
