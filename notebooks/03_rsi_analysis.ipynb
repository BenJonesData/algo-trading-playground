{
 "cells": [
  {
   "cell_type": "markdown",
   "metadata": {},
   "source": [
    "# RSI Analysis\n",
    "\n",
    "In the orevious notebook, we identified that The RSI may have some power in predicting returns. In this notebook we will investigate this further with some statistical analysis."
   ]
  },
  {
   "cell_type": "markdown",
   "metadata": {},
   "source": [
    "## Table of Contents\n",
    "1. [Introduction](#introduction)\n",
    "2. [Exploring RSI and Returns](#Exploring-RSI-and-Returns)\n",
    "<!-- 3. -->\n"
   ]
  },
  {
   "cell_type": "code",
   "execution_count": 1,
   "metadata": {},
   "outputs": [],
   "source": [
    "import os\n",
    "import sys\n",
    "\n",
    "# add root directory to path for helper functions\n",
    "if os.path.abspath(\"../\") not in sys.path:\n",
    "    sys.path.append(os.path.abspath(\"../\"))\n",
    "\n",
    "import pandas as pd\n",
    "import yfinance as yf\n",
    "import matplotlib.pyplot as plt\n",
    "\n",
    "from helper_functions.ingestion import get_price_data_and_rsi"
   ]
  },
  {
   "cell_type": "markdown",
   "metadata": {},
   "source": [
    "## Introduction"
   ]
  },
  {
   "cell_type": "code",
   "execution_count": 2,
   "metadata": {},
   "outputs": [],
   "source": [
    "url = 'https://en.wikipedia.org/wiki/List_of_S%26P_500_companies'\n",
    "df = pd.read_html(url, header=0)[0]\n",
    "tickers = df['Symbol'].tolist()"
   ]
  },
  {
   "cell_type": "code",
   "execution_count": 3,
   "metadata": {},
   "outputs": [
    {
     "name": "stderr",
     "output_type": "stream",
     "text": [
      "\n",
      "1 Failed download:\n",
      "['AMTM']: YFPricesMissingError('$%ticker%: possibly delisted; no price data found  (1d 2020-01-01 -> 2024-01-01) (Yahoo error = \"Data doesn\\'t exist for startDate = 1577854800, endDate = 1704085200\")')\n",
      "\n",
      "1 Failed download:\n",
      "['BRK.B']: YFTzMissingError('$%ticker%: possibly delisted; no timezone found')\n",
      "\n",
      "1 Failed download:\n",
      "['BF.B']: YFPricesMissingError('$%ticker%: possibly delisted; no price data found  (1d 2020-01-01 -> 2024-01-01)')\n",
      "\u001b[32m2024-10-11 09:08:18.693\u001b[0m | \u001b[1mINFO    \u001b[0m | \u001b[36mhelper_functions.ingestion\u001b[0m:\u001b[36mget_price_data_and_rsi\u001b[0m:\u001b[36m45\u001b[0m - \u001b[1m100 of 503 downloaded\u001b[0m\n",
      "\u001b[32m2024-10-11 09:08:30.647\u001b[0m | \u001b[1mINFO    \u001b[0m | \u001b[36mhelper_functions.ingestion\u001b[0m:\u001b[36mget_price_data_and_rsi\u001b[0m:\u001b[36m45\u001b[0m - \u001b[1m200 of 503 downloaded\u001b[0m\n",
      "\n",
      "1 Failed download:\n",
      "['GEV']: YFPricesMissingError('$%ticker%: possibly delisted; no price data found  (1d 2020-01-01 -> 2024-01-01) (Yahoo error = \"Data doesn\\'t exist for startDate = 1577854800, endDate = 1704085200\")')\n",
      "\u001b[32m2024-10-11 09:08:42.938\u001b[0m | \u001b[1mINFO    \u001b[0m | \u001b[36mhelper_functions.ingestion\u001b[0m:\u001b[36mget_price_data_and_rsi\u001b[0m:\u001b[36m45\u001b[0m - \u001b[1m300 of 503 downloaded\u001b[0m\n",
      "\u001b[32m2024-10-11 09:08:55.060\u001b[0m | \u001b[1mINFO    \u001b[0m | \u001b[36mhelper_functions.ingestion\u001b[0m:\u001b[36mget_price_data_and_rsi\u001b[0m:\u001b[36m45\u001b[0m - \u001b[1m400 of 503 downloaded\u001b[0m\n",
      "\n",
      "1 Failed download:\n",
      "['SW']: YFPricesMissingError('$%ticker%: possibly delisted; no price data found  (1d 2020-01-01 -> 2024-01-01) (Yahoo error = \"Data doesn\\'t exist for startDate = 1577854800, endDate = 1704085200\")')\n",
      "\n",
      "1 Failed download:\n",
      "['SOLV']: YFPricesMissingError('$%ticker%: possibly delisted; no price data found  (1d 2020-01-01 -> 2024-01-01) (Yahoo error = \"Data doesn\\'t exist for startDate = 1577854800, endDate = 1704085200\")')\n",
      "\u001b[32m2024-10-11 09:09:07.690\u001b[0m | \u001b[1mINFO    \u001b[0m | \u001b[36mhelper_functions.ingestion\u001b[0m:\u001b[36mget_price_data_and_rsi\u001b[0m:\u001b[36m45\u001b[0m - \u001b[1m500 of 503 downloaded\u001b[0m\n",
      "/Users/nb1252/Documents/Personal Projects/Finance Projects/algorithmic_trading/algo-trading-playground/helper_functions/ingestion.py:49: FutureWarning: The behavior of array concatenation with empty entries is deprecated. In a future version, this will no longer exclude empty items when determining the result dtype. To retain the old behavior, exclude the empty entries before the concat operation.\n",
      "  output_df = pd.concat(output_list).reset_index()\n"
     ]
    }
   ],
   "source": [
    "data = get_price_data_and_rsi(\n",
    "    tickers=tickers,\n",
    "    period=10,\n",
    "    start_date=\"2020-01-01\",\n",
    "    end_date=\"2024-01-01\",\n",
    "    interval='1d',\n",
    "    remove_zeros=True,\n",
    "    logger_batch_size=100\n",
    "    )"
   ]
  },
  {
   "cell_type": "code",
   "execution_count": 4,
   "metadata": {},
   "outputs": [
    {
     "data": {
      "text/html": [
       "<div>\n",
       "<style scoped>\n",
       "    .dataframe tbody tr th:only-of-type {\n",
       "        vertical-align: middle;\n",
       "    }\n",
       "\n",
       "    .dataframe tbody tr th {\n",
       "        vertical-align: top;\n",
       "    }\n",
       "\n",
       "    .dataframe thead th {\n",
       "        text-align: right;\n",
       "    }\n",
       "</style>\n",
       "<table border=\"1\" class=\"dataframe\">\n",
       "  <thead>\n",
       "    <tr style=\"text-align: right;\">\n",
       "      <th></th>\n",
       "      <th></th>\n",
       "      <th>Open</th>\n",
       "      <th>High</th>\n",
       "      <th>Low</th>\n",
       "      <th>Close</th>\n",
       "      <th>Adj Close</th>\n",
       "      <th>Volume</th>\n",
       "      <th>Return</th>\n",
       "      <th>rsi</th>\n",
       "    </tr>\n",
       "    <tr>\n",
       "      <th>Ticker</th>\n",
       "      <th>Date</th>\n",
       "      <th></th>\n",
       "      <th></th>\n",
       "      <th></th>\n",
       "      <th></th>\n",
       "      <th></th>\n",
       "      <th></th>\n",
       "      <th></th>\n",
       "      <th></th>\n",
       "    </tr>\n",
       "  </thead>\n",
       "  <tbody>\n",
       "    <tr>\n",
       "      <th rowspan=\"5\" valign=\"top\">MMM</th>\n",
       "      <th>2020-01-16</th>\n",
       "      <td>151.070236</td>\n",
       "      <td>151.505020</td>\n",
       "      <td>150.242477</td>\n",
       "      <td>151.346161</td>\n",
       "      <td>124.308533</td>\n",
       "      <td>2571280.0</td>\n",
       "      <td>0.006842</td>\n",
       "      <td>54.955836</td>\n",
       "    </tr>\n",
       "    <tr>\n",
       "      <th>2020-01-17</th>\n",
       "      <td>151.337799</td>\n",
       "      <td>152.299332</td>\n",
       "      <td>151.086960</td>\n",
       "      <td>151.630432</td>\n",
       "      <td>124.542038</td>\n",
       "      <td>4413360.0</td>\n",
       "      <td>0.001878</td>\n",
       "      <td>56.566023</td>\n",
       "    </tr>\n",
       "    <tr>\n",
       "      <th>2020-01-21</th>\n",
       "      <td>152.048492</td>\n",
       "      <td>152.098663</td>\n",
       "      <td>149.356186</td>\n",
       "      <td>149.991638</td>\n",
       "      <td>123.196045</td>\n",
       "      <td>4027769.0</td>\n",
       "      <td>-0.010808</td>\n",
       "      <td>46.027019</td>\n",
       "    </tr>\n",
       "    <tr>\n",
       "      <th>2020-01-22</th>\n",
       "      <td>150.091980</td>\n",
       "      <td>150.978256</td>\n",
       "      <td>148.729095</td>\n",
       "      <td>148.854507</td>\n",
       "      <td>122.262032</td>\n",
       "      <td>2894559.0</td>\n",
       "      <td>-0.007581</td>\n",
       "      <td>40.245933</td>\n",
       "    </tr>\n",
       "    <tr>\n",
       "      <th>2020-01-23</th>\n",
       "      <td>148.051834</td>\n",
       "      <td>149.197327</td>\n",
       "      <td>147.483276</td>\n",
       "      <td>148.612045</td>\n",
       "      <td>122.062889</td>\n",
       "      <td>2820646.0</td>\n",
       "      <td>-0.001629</td>\n",
       "      <td>39.082946</td>\n",
       "    </tr>\n",
       "    <tr>\n",
       "      <th>...</th>\n",
       "      <th>...</th>\n",
       "      <td>...</td>\n",
       "      <td>...</td>\n",
       "      <td>...</td>\n",
       "      <td>...</td>\n",
       "      <td>...</td>\n",
       "      <td>...</td>\n",
       "      <td>...</td>\n",
       "      <td>...</td>\n",
       "    </tr>\n",
       "    <tr>\n",
       "      <th rowspan=\"5\" valign=\"top\">ZTS</th>\n",
       "      <th>2023-12-22</th>\n",
       "      <td>195.320007</td>\n",
       "      <td>195.910004</td>\n",
       "      <td>192.740005</td>\n",
       "      <td>194.979996</td>\n",
       "      <td>193.525330</td>\n",
       "      <td>1548400.0</td>\n",
       "      <td>0.001644</td>\n",
       "      <td>65.435833</td>\n",
       "    </tr>\n",
       "    <tr>\n",
       "      <th>2023-12-26</th>\n",
       "      <td>194.880005</td>\n",
       "      <td>196.339996</td>\n",
       "      <td>194.089996</td>\n",
       "      <td>195.500000</td>\n",
       "      <td>194.041458</td>\n",
       "      <td>814600.0</td>\n",
       "      <td>0.002667</td>\n",
       "      <td>66.391233</td>\n",
       "    </tr>\n",
       "    <tr>\n",
       "      <th>2023-12-27</th>\n",
       "      <td>195.410004</td>\n",
       "      <td>197.009995</td>\n",
       "      <td>194.740005</td>\n",
       "      <td>196.899994</td>\n",
       "      <td>195.431000</td>\n",
       "      <td>766400.0</td>\n",
       "      <td>0.007161</td>\n",
       "      <td>68.957994</td>\n",
       "    </tr>\n",
       "    <tr>\n",
       "      <th>2023-12-28</th>\n",
       "      <td>197.619995</td>\n",
       "      <td>198.600006</td>\n",
       "      <td>196.529999</td>\n",
       "      <td>197.160004</td>\n",
       "      <td>195.689072</td>\n",
       "      <td>880100.0</td>\n",
       "      <td>0.001321</td>\n",
       "      <td>69.439624</td>\n",
       "    </tr>\n",
       "    <tr>\n",
       "      <th>2023-12-29</th>\n",
       "      <td>196.679993</td>\n",
       "      <td>198.009995</td>\n",
       "      <td>196.250000</td>\n",
       "      <td>197.369995</td>\n",
       "      <td>195.897491</td>\n",
       "      <td>1007200.0</td>\n",
       "      <td>0.001065</td>\n",
       "      <td>69.859272</td>\n",
       "    </tr>\n",
       "  </tbody>\n",
       "</table>\n",
       "<p>491434 rows × 8 columns</p>\n",
       "</div>"
      ],
      "text/plain": [
       "                         Open        High         Low       Close   Adj Close  \\\n",
       "Ticker Date                                                                     \n",
       "MMM    2020-01-16  151.070236  151.505020  150.242477  151.346161  124.308533   \n",
       "       2020-01-17  151.337799  152.299332  151.086960  151.630432  124.542038   \n",
       "       2020-01-21  152.048492  152.098663  149.356186  149.991638  123.196045   \n",
       "       2020-01-22  150.091980  150.978256  148.729095  148.854507  122.262032   \n",
       "       2020-01-23  148.051834  149.197327  147.483276  148.612045  122.062889   \n",
       "...                       ...         ...         ...         ...         ...   \n",
       "ZTS    2023-12-22  195.320007  195.910004  192.740005  194.979996  193.525330   \n",
       "       2023-12-26  194.880005  196.339996  194.089996  195.500000  194.041458   \n",
       "       2023-12-27  195.410004  197.009995  194.740005  196.899994  195.431000   \n",
       "       2023-12-28  197.619995  198.600006  196.529999  197.160004  195.689072   \n",
       "       2023-12-29  196.679993  198.009995  196.250000  197.369995  195.897491   \n",
       "\n",
       "                      Volume    Return        rsi  \n",
       "Ticker Date                                        \n",
       "MMM    2020-01-16  2571280.0  0.006842  54.955836  \n",
       "       2020-01-17  4413360.0  0.001878  56.566023  \n",
       "       2020-01-21  4027769.0 -0.010808  46.027019  \n",
       "       2020-01-22  2894559.0 -0.007581  40.245933  \n",
       "       2020-01-23  2820646.0 -0.001629  39.082946  \n",
       "...                      ...       ...        ...  \n",
       "ZTS    2023-12-22  1548400.0  0.001644  65.435833  \n",
       "       2023-12-26   814600.0  0.002667  66.391233  \n",
       "       2023-12-27   766400.0  0.007161  68.957994  \n",
       "       2023-12-28   880100.0  0.001321  69.439624  \n",
       "       2023-12-29  1007200.0  0.001065  69.859272  \n",
       "\n",
       "[491434 rows x 8 columns]"
      ]
     },
     "execution_count": 4,
     "metadata": {},
     "output_type": "execute_result"
    }
   ],
   "source": [
    "data"
   ]
  },
  {
   "cell_type": "markdown",
   "metadata": {},
   "source": [
    "## Exploring RSI and Returns"
   ]
  },
  {
   "cell_type": "code",
   "execution_count": 16,
   "metadata": {},
   "outputs": [
    {
     "data": {
      "image/png": "[encoded data removed]",
      "text/plain": [
       "<Figure size 640x480 with 1 Axes>"
      ]
     },
     "metadata": {},
     "output_type": "display_data"
    }
   ],
   "source": [
    "plt.hist(data['rsi'], bins=50)\n",
    "plt.show()"
   ]
  },
  {
   "cell_type": "code",
   "execution_count": 17,
   "metadata": {},
   "outputs": [
    {
     "data": {
      "image/png": "[encoded data removed]",
      "text/plain": [
       "<Figure size 640x480 with 1 Axes>"
      ]
     },
     "metadata": {},
     "output_type": "display_data"
    }
   ],
   "source": [
    "plt.scatter(data['rsi'], data_grouped['Return'])\n",
    "plt.xlabel(\"RSI\")\n",
    "plt.ylabel(\"Daily Returns\")\n",
    "plt.title(\"RSI Against Daily Returns across S&P 500 stocks\")\n",
    "plt.show()"
   ]
  },
  {
   "cell_type": "code",
   "execution_count": null,
   "metadata": {},
   "outputs": [],
   "source": []
  }
 ],
 "metadata": {
  "kernelspec": {
   "display_name": ".venv",
   "language": "python",
   "name": "python3"
  },
  "language_info": {
   "codemirror_mode": {
    "name": "ipython",
    "version": 3
   },
   "file_extension": ".py",
   "mimetype": "text/x-python",
   "name": "python",
   "nbconvert_exporter": "python",
   "pygments_lexer": "ipython3",
   "version": "3.10.15"
  }
 },
 "nbformat": 4,
 "nbformat_minor": 2
}
