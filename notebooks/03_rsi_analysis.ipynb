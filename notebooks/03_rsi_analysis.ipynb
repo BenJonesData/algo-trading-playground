{
 "cells": [
  {
   "cell_type": "markdown",
   "metadata": {},
   "source": [
    "# RSI Analysis\n",
    "\n",
    "In the orevious notebook, we identified that The RSI may have some power in predicting returns. In this notebook we will investigate this further with some statistical analysis."
   ]
  },
  {
   "cell_type": "markdown",
   "metadata": {},
   "source": [
    "## Table of Contents\n",
    "1. \n",
    "2.\n",
    "3.\n"
   ]
  },
  {
   "cell_type": "code",
   "execution_count": null,
   "metadata": {},
   "outputs": [],
   "source": [
    "import os\n",
    "import sys\n",
    "\n",
    "# add root directory to path for helper functions\n",
    "if os.path.abspath(\"../\") not in sys.path:\n",
    "    sys.path.append(os.path.abspath(\"../\"))"
   ]
  }
 ],
 "metadata": {
  "language_info": {
   "name": "python"
  }
 },
 "nbformat": 4,
 "nbformat_minor": 2
}
